{
 "cells": [
  {
   "cell_type": "code",
   "execution_count": 1,
   "metadata": {},
   "outputs": [
    {
     "name": "stderr",
     "output_type": "stream",
     "text": [
      "/root/docker_data/MSthesis/model/activation.py:8: FutureWarning: `torch.cuda.amp.custom_fwd(args...)` is deprecated. Please use `torch.amp.custom_fwd(args..., device_type='cuda')` instead.\n",
      "  @custom_fwd(cast_inputs=torch.float32)  # cast to float32\n",
      "/root/docker_data/MSthesis/model/activation.py:15: FutureWarning: `torch.cuda.amp.custom_bwd(args...)` is deprecated. Please use `torch.amp.custom_bwd(args..., device_type='cuda')` instead.\n",
      "  def backward(ctx, g):\n"
     ]
    },
    {
     "name": "stdout",
     "output_type": "stream",
     "text": [
      "Loaded compiled 3D CUDA chamfer distance\n",
      "Jupyter environment detected. Enabling Open3D WebVisualizer.\n",
      "[Open3D INFO] WebRTC GUI backend enabled.\n",
      "[Open3D INFO] WebRTCWindowSystem: HTTP handshake server disabled.\n"
     ]
    }
   ],
   "source": [
    "import os\n",
    "import torch\n",
    "import numpy as np\n",
    "import configargparse\n",
    "import argparse\n",
    "import sys\n",
    "from model.lidar4d import LiDAR4D\n",
    "from model.runner import Trainer\n",
    "from utils.metrics import DepthMeter, IntensityMeter, RaydropMeter, PointsMeter, LabelMeter\n",
    "from utils.misc import set_seed"
   ]
  },
  {
   "cell_type": "code",
   "execution_count": 2,
   "metadata": {},
   "outputs": [],
   "source": [
    "def get_arg_parser():\n",
    "    parser = configargparse.ArgumentParser()\n",
    "\n",
    "    parser.add_argument(\"--config\", is_config_file=True, default=\"configs/kitti360_4950.txt\", help=\"config file path\")\n",
    "    parser.add_argument(\"--workspace\", type=str, default=\"workspace\")\n",
    "    parser.add_argument(\"--refine\", action=\"store_true\", help=\"refine mode\")\n",
    "    parser.add_argument(\"--test\", action=\"store_true\", help=\"test mode\")\n",
    "    parser.add_argument(\"--test_eval\", action=\"store_true\", help=\"test and eval mode\")\n",
    "    parser.add_argument(\"--seed\", type=int, default=0)\n",
    "\n",
    "    ### dataset\n",
    "    parser.add_argument(\"--dataloader\", type=str, choices=(\"kitti360\", \"nuscenes\"), default=\"kitti360\")\n",
    "    parser.add_argument(\"--path\", type=str, default=\"data/kitti360\", help=\"dataset root path\")\n",
    "    parser.add_argument(\"--sequence_id\", type=str, default=\"4950\")\n",
    "    parser.add_argument(\"--preload\", type=bool, default=True, help=\"preload all data into GPU, accelerate training but use more GPU memory\")\n",
    "    parser.add_argument(\"--bound\", type=float, default=1, help=\"assume the scene is bounded in box[-bound, bound]^3\")\n",
    "    parser.add_argument(\"--scale\", type=float, default=0.01, help=\"scale lidar location into box[-bound, bound]^3\")\n",
    "    parser.add_argument(\"--offset\", type=float, nargs=\"*\", default=[0, 0, 0], help=\"offset of lidar location\")\n",
    "    parser.add_argument(\"--near_lidar\", type=float, default=1.0, help=\"minimum near distance for lidar\")\n",
    "    parser.add_argument(\"--far_lidar\", type=float, default=81.0, help=\"maximum far distance for lidar\")\n",
    "    parser.add_argument(\"--fov_lidar\", type=float, nargs=\"*\", default=[2.0, 26.9], help=\"fov up and fov range of lidar\")\n",
    "    parser.add_argument(\"--num_frames\", type=int, default=51, help=\"total number of sequence frames\")\n",
    "\n",
    "    ### LiDAR4D\n",
    "    parser.add_argument(\"--min_resolution\", type=int, default=32, help=\"minimum resolution for planes\")\n",
    "    parser.add_argument(\"--base_resolution\", type=int, default=512, help=\"minimum resolution for hash grid\")\n",
    "    parser.add_argument(\"--max_resolution\", type=int, default=32768, help=\"maximum resolution for hash grid\")\n",
    "    parser.add_argument(\"--time_resolution\", type=int, default=8, help=\"temporal resolution\")\n",
    "    parser.add_argument(\"--n_levels_plane\", type=int, default=4, help=\"n_levels for planes\")\n",
    "    parser.add_argument(\"--n_features_per_level_plane\", type=int, default=8, help=\"n_features_per_level for planes\")\n",
    "    parser.add_argument(\"--n_levels_hash\", type=int, default=8, help=\"n_levels for hash grid\")\n",
    "    parser.add_argument(\"--n_features_per_level_hash\", type=int, default=4, help=\"n_features_per_level for hash grid\")\n",
    "    parser.add_argument(\"--log2_hashmap_size\", type=int, default=19, help=\"hashmap size for hash grid\")\n",
    "    parser.add_argument(\"--num_layers_flow\", type=int, default=3, help=\"num_layers of flownet\")\n",
    "    parser.add_argument(\"--hidden_dim_flow\", type=int, default=64, help=\"hidden_dim of flownet\")\n",
    "    parser.add_argument(\"--num_layers_sigma\", type=int, default=2, help=\"num_layers of sigmanet\")\n",
    "    parser.add_argument(\"--hidden_dim_sigma\", type=int, default=64, help=\"hidden_dim of sigmanet\")\n",
    "    parser.add_argument(\"--geo_feat_dim\", type=int, default=15, help=\"geo_feat_dim of sigmanet\")\n",
    "    parser.add_argument(\"--num_layers_lidar\", type=int, default=3, help=\"num_layers of intensity/raydrop\")\n",
    "    parser.add_argument(\"--hidden_dim_lidar\", type=int, default=64, help=\"hidden_dim of intensity/raydrop\")\n",
    "    parser.add_argument(\"--out_lidar_dim\", type=int, default=3, help=\"output dim for lidar intensity/raydrop\")\n",
    "\n",
    "    ### training\n",
    "    parser.add_argument(\"--depth_loss\", type=str, default=\"l1\", help=\"l1, bce, mse, huber\")\n",
    "    parser.add_argument(\"--depth_grad_loss\", type=str, default=\"l1\", help=\"l1, bce, mse, huber\")\n",
    "    parser.add_argument(\"--intensity_loss\", type=str, default=\"mse\", help=\"l1, bce, mse, huber\")\n",
    "    parser.add_argument(\"--raydrop_loss\", type=str, default=\"mse\", help=\"l1, bce, mse, huber\")\n",
    "    parser.add_argument(\"--label_loss\", type=str, default=\"l1\", help=\"l1, bce, mse, huber\")\n",
    "    parser.add_argument(\"--flow_loss\", type=bool, default=True)\n",
    "    parser.add_argument(\"--grad_loss\", type=bool, default=True)\n",
    "\n",
    "    parser.add_argument(\"--alpha_d\", type=float, default=1)\n",
    "    parser.add_argument(\"--alpha_i\", type=float, default=0.1)\n",
    "    parser.add_argument(\"--alpha_l\", type=float, default=0.1)\n",
    "    parser.add_argument(\"--alpha_r\", type=float, default=0.01)\n",
    "    parser.add_argument(\"--alpha_grad\", type=float, default=0.1)\n",
    "    parser.add_argument(\"--alpha_grad_norm\", type=float, default=0.1)\n",
    "    parser.add_argument(\"--alpha_spatial\", type=float, default=0.1)\n",
    "    parser.add_argument(\"--alpha_tv\", type=float, default=0.1)\n",
    "\n",
    "    parser.add_argument(\"--grad_norm_smooth\", action=\"store_true\")\n",
    "    parser.add_argument(\"--spatial_smooth\", action=\"store_true\")\n",
    "    parser.add_argument(\"--tv_loss\", action=\"store_true\")\n",
    "    parser.add_argument(\"--sobel_grad\", action=\"store_true\")\n",
    "    parser.add_argument(\"--urf_loss\", action=\"store_true\", help=\"enable line-of-sight loss in URF.\")\n",
    "    parser.add_argument(\"--active_sensor\", action=\"store_true\", help=\"enable volume rendering for active sensor.\")\n",
    "\n",
    "    parser.add_argument(\"--density_scale\", type=float, default=1)\n",
    "    parser.add_argument(\"--intensity_scale\", type=float, default=1)\n",
    "    parser.add_argument(\"--raydrop_ratio\", type=float, default=0.5)\n",
    "    parser.add_argument(\"--smooth_factor\", type=float, default=0.2)\n",
    "\n",
    "    parser.add_argument(\"--iters\", type=int, default=30000, help=\"training iters\")\n",
    "    parser.add_argument(\"--lr\", type=float, default=1e-2, help=\"initial learning rate\")\n",
    "    parser.add_argument(\"--fp16\", type=bool, default=True, help=\"use amp mixed precision training\")\n",
    "    parser.add_argument(\"--eval_interval\", type=int, default=100)\n",
    "    parser.add_argument(\"--ckpt\", type=str, default=\"latest\")\n",
    "    parser.add_argument(\"--num_rays_lidar\", type=int, default=1024, help=\"num rays sampled per image for each training step\")\n",
    "    parser.add_argument(\"--num_steps\", type=int, default=768, help=\"num steps sampled per ray\")\n",
    "    parser.add_argument(\"--patch_size_lidar\", type=int, default=1, help=\"[experimental] render patches in training.\" \n",
    "                                                                        \"1 means disabled, use [64, 32, 16] to enable\")\n",
    "    parser.add_argument(\"--change_patch_size_lidar\", nargs=\"+\", type=int, default=[2, 8], help=\"[experimental] render patches in training. \" \n",
    "                                                                      \"1 means disabled, use [64, 32, 16] to enable, change during training\")\n",
    "    parser.add_argument(\"--change_patch_size_epoch\", type=int, default=2, help=\"change patch_size intenvel\")\n",
    "    parser.add_argument(\"--ema_decay\", type=float, default=0.95, help=\"use ema during training\")\n",
    "\n",
    "    return parser"
   ]
  },
  {
   "cell_type": "code",
   "execution_count": 3,
   "metadata": {},
   "outputs": [
    {
     "name": "stderr",
     "output_type": "stream",
     "text": [
      "/root/docker_data/MSthesis/data/base_dataset.py:15: FutureWarning: `torch.cuda.amp.autocast(args...)` is deprecated. Please use `torch.amp.autocast('cuda', args...)` instead.\n",
      "  @torch.cuda.amp.autocast(enabled=False)\n"
     ]
    }
   ],
   "source": [
    "sys.argv = [\"/root/docker_data/LiDAR4D/configs/kitti360_4950.txt\"]\n",
    "parser = get_arg_parser()\n",
    "opt = parser.parse_args()\n",
    "set_seed(opt.seed)\n",
    "# Check sequence id.\n",
    "kitti360_sequence_ids = [\n",
    "    \"1538\",\n",
    "    \"1728\",\n",
    "    \"1908\",\n",
    "    \"3353\",\n",
    "    \"2350\",\n",
    "    \"4950\",\n",
    "    \"8120\",\n",
    "    \"10200\",\n",
    "    \"10750\",\n",
    "    \"11400\",\n",
    "]\n",
    "\n",
    "# Specify dataloader class\n",
    "if opt.dataloader == \"kitti360\":\n",
    "    from data.kitti360_dataset_with_image import KITTI360Dataset as NeRFDataset\n",
    "\n",
    "    if opt.sequence_id not in kitti360_sequence_ids:\n",
    "        raise ValueError(\n",
    "            f\"Unknown sequence id {opt.sequence_id} for {opt.dataloader}\"\n",
    "        )\n",
    "# elif opt.dataloader == \"nuscenes\":\n",
    "#     from data.nus_dataset import NusDataset as NeRFDataset\n",
    "else:\n",
    "    raise RuntimeError(\"Should not reach here.\")\n",
    "\n",
    "# Logging\n",
    "os.makedirs(opt.workspace, exist_ok=True)\n",
    "f = os.path.join(opt.workspace, \"args.txt\")\n",
    "with open(f, \"w\") as file:\n",
    "    for arg in vars(opt):\n",
    "        attr = getattr(opt, arg)\n",
    "        file.write(\"{} = {}\\n\".format(arg, attr))\n",
    "\n",
    "if opt.patch_size_lidar > 1:\n",
    "    assert (\n",
    "        opt.num_rays % (opt.patch_size_lidar**2) == 0\n",
    "    ), \"patch_size ** 2 should be dividable by num_rays.\"\n",
    "\n",
    "opt.near_lidar = opt.near_lidar * opt.scale\n",
    "opt.far_lidar = opt.far_lidar * opt.scale"
   ]
  },
  {
   "cell_type": "code",
   "execution_count": 4,
   "metadata": {},
   "outputs": [],
   "source": [
    "model = LiDAR4D(\n",
    "        min_resolution=opt.min_resolution,\n",
    "        base_resolution=opt.base_resolution,\n",
    "        max_resolution=opt.max_resolution,\n",
    "        time_resolution=opt.time_resolution,\n",
    "        n_levels_plane=opt.n_levels_plane,\n",
    "        n_features_per_level_plane=opt.n_features_per_level_plane,\n",
    "        n_levels_hash=opt.n_levels_hash,\n",
    "        n_features_per_level_hash=opt.n_features_per_level_hash,\n",
    "        log2_hashmap_size=opt.log2_hashmap_size,\n",
    "        num_layers_flow=opt.num_layers_flow,\n",
    "        hidden_dim_flow=opt.hidden_dim_flow,\n",
    "        num_layers_sigma=opt.num_layers_sigma,\n",
    "        hidden_dim_sigma=opt.hidden_dim_sigma,\n",
    "        geo_feat_dim=opt.geo_feat_dim,\n",
    "        num_layers_lidar=opt.num_layers_lidar,\n",
    "        hidden_dim_lidar=opt.hidden_dim_lidar,\n",
    "        out_lidar_dim=opt.out_lidar_dim,\n",
    "        num_frames=opt.num_frames,\n",
    "        bound=opt.bound,\n",
    "        near_lidar=opt.near_lidar,\n",
    "        far_lidar=opt.far_lidar,\n",
    "        density_scale=opt.density_scale,\n",
    "        active_sensor=opt.active_sensor,\n",
    "    )\n",
    "# print(model)"
   ]
  },
  {
   "cell_type": "code",
   "execution_count": 5,
   "metadata": {},
   "outputs": [
    {
     "data": {
      "text/plain": [
       "LiDAR4D(\n",
       "  (planes_encoder): Planes4D(\n",
       "    (planes): ModuleList(\n",
       "      (0): ParameterList(\n",
       "          (0): Parameter containing: [torch.float32 of size 1x8x32x32]\n",
       "          (1): Parameter containing: [torch.float32 of size 1x8x32x32]\n",
       "          (2): Parameter containing: [torch.float32 of size 1x8x8x32]\n",
       "          (3): Parameter containing: [torch.float32 of size 1x8x32x32]\n",
       "          (4): Parameter containing: [torch.float32 of size 1x8x8x32]\n",
       "          (5): Parameter containing: [torch.float32 of size 1x8x8x32]\n",
       "      )\n",
       "      (1): ParameterList(\n",
       "          (0): Parameter containing: [torch.float32 of size 1x8x64x64]\n",
       "          (1): Parameter containing: [torch.float32 of size 1x8x64x64]\n",
       "          (2): Parameter containing: [torch.float32 of size 1x8x8x64]\n",
       "          (3): Parameter containing: [torch.float32 of size 1x8x64x64]\n",
       "          (4): Parameter containing: [torch.float32 of size 1x8x8x64]\n",
       "          (5): Parameter containing: [torch.float32 of size 1x8x8x64]\n",
       "      )\n",
       "      (2): ParameterList(\n",
       "          (0): Parameter containing: [torch.float32 of size 1x8x128x128]\n",
       "          (1): Parameter containing: [torch.float32 of size 1x8x128x128]\n",
       "          (2): Parameter containing: [torch.float32 of size 1x8x8x128]\n",
       "          (3): Parameter containing: [torch.float32 of size 1x8x128x128]\n",
       "          (4): Parameter containing: [torch.float32 of size 1x8x8x128]\n",
       "          (5): Parameter containing: [torch.float32 of size 1x8x8x128]\n",
       "      )\n",
       "      (3): ParameterList(\n",
       "          (0): Parameter containing: [torch.float32 of size 1x8x256x256]\n",
       "          (1): Parameter containing: [torch.float32 of size 1x8x256x256]\n",
       "          (2): Parameter containing: [torch.float32 of size 1x8x8x256]\n",
       "          (3): Parameter containing: [torch.float32 of size 1x8x256x256]\n",
       "          (4): Parameter containing: [torch.float32 of size 1x8x8x256]\n",
       "          (5): Parameter containing: [torch.float32 of size 1x8x8x256]\n",
       "      )\n",
       "    )\n",
       "  )\n",
       "  (hash_encoder): HashGrid4D(\n",
       "    (hash_static): Encoding(n_input_dims=3, n_output_dims=32, seed=1337, dtype=torch.float16, hyperparams={'base_resolution': 512, 'hash': 'CoherentPrime', 'interpolation': 'Linear', 'log2_hashmap_size': 19, 'n_features_per_level': 4, 'n_levels': 8, 'otype': 'Grid', 'per_level_scale': 1.8114473819732666, 'type': 'Hash'})\n",
       "    (hash_dynamic): ModuleList(\n",
       "      (0): HashGridT(\n",
       "        (hash_t): ModuleList(\n",
       "          (0-7): 8 x Encoding(n_input_dims=2, n_output_dims=32, seed=1337, dtype=torch.float16, hyperparams={'base_resolution': 512, 'hash': 'CoherentPrime', 'interpolation': 'Linear', 'log2_hashmap_size': 15, 'n_features_per_level': 4, 'n_levels': 8, 'otype': 'Grid', 'per_level_scale': 1.8114473819732666, 'type': 'Hash'})\n",
       "        )\n",
       "      )\n",
       "      (1-2): 2 x HashGridT(\n",
       "        (hash_t): ModuleList(\n",
       "          (0-7): 8 x Encoding(n_input_dims=2, n_output_dims=32, seed=1337, dtype=torch.float16, hyperparams={'base_resolution': 512, 'hash': 'CoherentPrime', 'interpolation': 'Linear', 'log2_hashmap_size': 13, 'n_features_per_level': 4, 'n_levels': 8, 'otype': 'Grid', 'per_level_scale': 1.8114473819732666, 'type': 'Hash'})\n",
       "        )\n",
       "      )\n",
       "    )\n",
       "  )\n",
       "  (view_encoder): Encoding(n_input_dims=3, n_output_dims=72, seed=1337, dtype=torch.float16, hyperparams={'n_frequencies': 12, 'otype': 'Frequency'})\n",
       "  (flow_net): FlowField(\n",
       "    (grid_enc): Encoding(n_input_dims=3, n_output_dims=64, seed=1337, dtype=torch.float16, hyperparams={'base_resolution': 32, 'hash': 'CoherentPrime', 'interpolation': 'Linear', 'log2_hashmap_size': 18, 'n_features_per_level': 8, 'n_levels': 8, 'otype': 'Grid', 'per_level_scale': 2.208178997039795, 'type': 'Hash'})\n",
       "    (mlp): Sequential(\n",
       "      (0): Linear(in_features=16, out_features=64, bias=False)\n",
       "      (1): ReLU()\n",
       "      (2): Linear(in_features=64, out_features=64, bias=False)\n",
       "      (3): ReLU()\n",
       "      (4): Linear(in_features=64, out_features=6, bias=False)\n",
       "    )\n",
       "  )\n",
       "  (sigma_net): Network(n_input_dims=120, n_output_dims=16, seed=1337, dtype=torch.float16, hyperparams={'encoding': {'offset': 0.0, 'otype': 'Identity', 'scale': 1.0}, 'network': {'activation': 'ReLU', 'n_hidden_layers': 1, 'n_neurons': 64, 'otype': 'FullyFusedMLP', 'output_activation': 'None'}, 'otype': 'NetworkWithInputEncoding'})\n",
       "  (intensity_net): Network(n_input_dims=87, n_output_dims=1, seed=1337, dtype=torch.float16, hyperparams={'encoding': {'offset': 0.0, 'otype': 'Identity', 'scale': 1.0}, 'network': {'activation': 'ReLU', 'n_hidden_layers': 2, 'n_neurons': 64, 'otype': 'FullyFusedMLP', 'output_activation': 'None'}, 'otype': 'NetworkWithInputEncoding'})\n",
       "  (raydrop_net): Network(n_input_dims=87, n_output_dims=1, seed=1337, dtype=torch.float16, hyperparams={'encoding': {'offset': 0.0, 'otype': 'Identity', 'scale': 1.0}, 'network': {'activation': 'ReLU', 'n_hidden_layers': 2, 'n_neurons': 64, 'otype': 'FullyFusedMLP', 'output_activation': 'None'}, 'otype': 'NetworkWithInputEncoding'})\n",
       "  (label_net): Network(n_input_dims=87, n_output_dims=6, seed=1337, dtype=torch.float16, hyperparams={'encoding': {'offset': 0.0, 'otype': 'Identity', 'scale': 1.0}, 'network': {'activation': 'ReLU', 'n_hidden_layers': 2, 'n_neurons': 64, 'otype': 'FullyFusedMLP', 'output_activation': 'None'}, 'otype': 'NetworkWithInputEncoding'})\n",
       "  (unet): UNet(\n",
       "    (inc): InConv(\n",
       "      (conv): Conv2d(4, 32, kernel_size=(1, 1), stride=(1, 1))\n",
       "    )\n",
       "    (down1): Down(\n",
       "      (down): MaxPool2d(kernel_size=2, stride=2, padding=0, dilation=1, ceil_mode=False)\n",
       "      (conv): DoubleConv(\n",
       "        (double_conv): Sequential(\n",
       "          (0): BatchNorm2d(32, eps=1e-05, momentum=0.1, affine=True, track_running_stats=True)\n",
       "          (1): ReLU(inplace=True)\n",
       "          (2): Dropout2d(p=0.1, inplace=False)\n",
       "          (3): Conv2d(32, 64, kernel_size=(3, 3), stride=(1, 1), padding=(1, 1), bias=False)\n",
       "          (4): BatchNorm2d(64, eps=1e-05, momentum=0.1, affine=True, track_running_stats=True)\n",
       "          (5): ReLU(inplace=True)\n",
       "          (6): Dropout2d(p=0.1, inplace=False)\n",
       "          (7): Conv2d(64, 64, kernel_size=(3, 3), stride=(1, 1), padding=(1, 1), bias=False)\n",
       "        )\n",
       "      )\n",
       "    )\n",
       "    (down2): Down(\n",
       "      (down): MaxPool2d(kernel_size=2, stride=2, padding=0, dilation=1, ceil_mode=False)\n",
       "      (conv): DoubleConv(\n",
       "        (double_conv): Sequential(\n",
       "          (0): BatchNorm2d(64, eps=1e-05, momentum=0.1, affine=True, track_running_stats=True)\n",
       "          (1): ReLU(inplace=True)\n",
       "          (2): Dropout2d(p=0.1, inplace=False)\n",
       "          (3): Conv2d(64, 128, kernel_size=(3, 3), stride=(1, 1), padding=(1, 1), bias=False)\n",
       "          (4): BatchNorm2d(128, eps=1e-05, momentum=0.1, affine=True, track_running_stats=True)\n",
       "          (5): ReLU(inplace=True)\n",
       "          (6): Dropout2d(p=0.1, inplace=False)\n",
       "          (7): Conv2d(128, 128, kernel_size=(3, 3), stride=(1, 1), padding=(1, 1), bias=False)\n",
       "        )\n",
       "      )\n",
       "    )\n",
       "    (down3): Down(\n",
       "      (down): MaxPool2d(kernel_size=2, stride=2, padding=0, dilation=1, ceil_mode=False)\n",
       "      (conv): DoubleConv(\n",
       "        (double_conv): Sequential(\n",
       "          (0): BatchNorm2d(128, eps=1e-05, momentum=0.1, affine=True, track_running_stats=True)\n",
       "          (1): ReLU(inplace=True)\n",
       "          (2): Dropout2d(p=0.1, inplace=False)\n",
       "          (3): Conv2d(128, 256, kernel_size=(3, 3), stride=(1, 1), padding=(1, 1), bias=False)\n",
       "          (4): BatchNorm2d(256, eps=1e-05, momentum=0.1, affine=True, track_running_stats=True)\n",
       "          (5): ReLU(inplace=True)\n",
       "          (6): Dropout2d(p=0.1, inplace=False)\n",
       "          (7): Conv2d(256, 256, kernel_size=(3, 3), stride=(1, 1), padding=(1, 1), bias=False)\n",
       "        )\n",
       "      )\n",
       "    )\n",
       "    (down4): Down(\n",
       "      (down): MaxPool2d(kernel_size=2, stride=2, padding=0, dilation=1, ceil_mode=False)\n",
       "      (conv): DoubleConv(\n",
       "        (double_conv): Sequential(\n",
       "          (0): BatchNorm2d(256, eps=1e-05, momentum=0.1, affine=True, track_running_stats=True)\n",
       "          (1): ReLU(inplace=True)\n",
       "          (2): Dropout2d(p=0.1, inplace=False)\n",
       "          (3): Conv2d(256, 256, kernel_size=(3, 3), stride=(1, 1), padding=(1, 1), bias=False)\n",
       "          (4): BatchNorm2d(256, eps=1e-05, momentum=0.1, affine=True, track_running_stats=True)\n",
       "          (5): ReLU(inplace=True)\n",
       "          (6): Dropout2d(p=0.1, inplace=False)\n",
       "          (7): Conv2d(256, 256, kernel_size=(3, 3), stride=(1, 1), padding=(1, 1), bias=False)\n",
       "        )\n",
       "      )\n",
       "    )\n",
       "    (attn): AttnBlock(\n",
       "      (proj_qkv): Conv2d(256, 768, kernel_size=(1, 1), stride=(1, 1), bias=False)\n",
       "      (proj): Conv2d(256, 256, kernel_size=(1, 1), stride=(1, 1), bias=False)\n",
       "      (norm): BatchNorm2d(256, eps=1e-05, momentum=0.1, affine=True, track_running_stats=True)\n",
       "    )\n",
       "    (up1): Up(\n",
       "      (up): Upsample(scale_factor=2.0, mode='bilinear')\n",
       "      (conv): DoubleConv(\n",
       "        (double_conv): Sequential(\n",
       "          (0): BatchNorm2d(512, eps=1e-05, momentum=0.1, affine=True, track_running_stats=True)\n",
       "          (1): ReLU(inplace=True)\n",
       "          (2): Dropout2d(p=0.1, inplace=False)\n",
       "          (3): Conv2d(512, 512, kernel_size=(3, 3), stride=(1, 1), padding=(1, 1), bias=False)\n",
       "          (4): BatchNorm2d(512, eps=1e-05, momentum=0.1, affine=True, track_running_stats=True)\n",
       "          (5): ReLU(inplace=True)\n",
       "          (6): Dropout2d(p=0.1, inplace=False)\n",
       "          (7): Conv2d(512, 128, kernel_size=(3, 3), stride=(1, 1), padding=(1, 1), bias=False)\n",
       "        )\n",
       "      )\n",
       "    )\n",
       "    (up2): Up(\n",
       "      (up): Upsample(scale_factor=2.0, mode='bilinear')\n",
       "      (conv): DoubleConv(\n",
       "        (double_conv): Sequential(\n",
       "          (0): BatchNorm2d(256, eps=1e-05, momentum=0.1, affine=True, track_running_stats=True)\n",
       "          (1): ReLU(inplace=True)\n",
       "          (2): Dropout2d(p=0.1, inplace=False)\n",
       "          (3): Conv2d(256, 256, kernel_size=(3, 3), stride=(1, 1), padding=(1, 1), bias=False)\n",
       "          (4): BatchNorm2d(256, eps=1e-05, momentum=0.1, affine=True, track_running_stats=True)\n",
       "          (5): ReLU(inplace=True)\n",
       "          (6): Dropout2d(p=0.1, inplace=False)\n",
       "          (7): Conv2d(256, 64, kernel_size=(3, 3), stride=(1, 1), padding=(1, 1), bias=False)\n",
       "        )\n",
       "      )\n",
       "    )\n",
       "    (up3): Up(\n",
       "      (up): Upsample(scale_factor=2.0, mode='bilinear')\n",
       "      (conv): DoubleConv(\n",
       "        (double_conv): Sequential(\n",
       "          (0): BatchNorm2d(128, eps=1e-05, momentum=0.1, affine=True, track_running_stats=True)\n",
       "          (1): ReLU(inplace=True)\n",
       "          (2): Dropout2d(p=0.1, inplace=False)\n",
       "          (3): Conv2d(128, 128, kernel_size=(3, 3), stride=(1, 1), padding=(1, 1), bias=False)\n",
       "          (4): BatchNorm2d(128, eps=1e-05, momentum=0.1, affine=True, track_running_stats=True)\n",
       "          (5): ReLU(inplace=True)\n",
       "          (6): Dropout2d(p=0.1, inplace=False)\n",
       "          (7): Conv2d(128, 32, kernel_size=(3, 3), stride=(1, 1), padding=(1, 1), bias=False)\n",
       "        )\n",
       "      )\n",
       "    )\n",
       "    (up4): Up(\n",
       "      (up): Upsample(scale_factor=2.0, mode='bilinear')\n",
       "      (conv): DoubleConv(\n",
       "        (double_conv): Sequential(\n",
       "          (0): BatchNorm2d(64, eps=1e-05, momentum=0.1, affine=True, track_running_stats=True)\n",
       "          (1): ReLU(inplace=True)\n",
       "          (2): Dropout2d(p=0.1, inplace=False)\n",
       "          (3): Conv2d(64, 64, kernel_size=(3, 3), stride=(1, 1), padding=(1, 1), bias=False)\n",
       "          (4): BatchNorm2d(64, eps=1e-05, momentum=0.1, affine=True, track_running_stats=True)\n",
       "          (5): ReLU(inplace=True)\n",
       "          (6): Dropout2d(p=0.1, inplace=False)\n",
       "          (7): Conv2d(64, 32, kernel_size=(3, 3), stride=(1, 1), padding=(1, 1), bias=False)\n",
       "        )\n",
       "      )\n",
       "    )\n",
       "    (outc): OutConv(\n",
       "      (conv): Sequential(\n",
       "        (0): BatchNorm2d(32, eps=1e-05, momentum=0.1, affine=True, track_running_stats=True)\n",
       "        (1): ReLU(inplace=True)\n",
       "        (2): Conv2d(32, 1, kernel_size=(1, 1), stride=(1, 1))\n",
       "      )\n",
       "    )\n",
       "    (sigmoid): Sigmoid()\n",
       "  )\n",
       ")"
      ]
     },
     "execution_count": 5,
     "metadata": {},
     "output_type": "execute_result"
    }
   ],
   "source": [
    "model"
   ]
  },
  {
   "cell_type": "code",
   "execution_count": 5,
   "metadata": {},
   "outputs": [
    {
     "data": {
      "text/plain": [
       "torch.return_types.max(\n",
       "values=tensor([1, 1]),\n",
       "indices=tensor([0, 1]))"
      ]
     },
     "execution_count": 5,
     "metadata": {},
     "output_type": "execute_result"
    }
   ],
   "source": [
    "torch.max(torch.tensor([[1,0,0],[0,1,0]]),dim = 1)"
   ]
  },
  {
   "cell_type": "code",
   "execution_count": 6,
   "metadata": {},
   "outputs": [
    {
     "name": "stdout",
     "output_type": "stream",
     "text": [
      "OrderedDict([(35, tensor([1., 0., 0., 0., 0., 0., 0., 0., 0., 0., 0., 0., 0., 0., 0., 0., 0., 0.,\n",
      "        0., 0., 0.], device='cuda:0')), (22, tensor([0., 1., 0., 0., 0., 0., 0., 0., 0., 0., 0., 0., 0., 0., 0., 0., 0., 0.,\n",
      "        0., 0., 0.], device='cuda:0')), (8, tensor([0., 0., 1., 0., 0., 0., 0., 0., 0., 0., 0., 0., 0., 0., 0., 0., 0., 0.,\n",
      "        0., 0., 0.], device='cuda:0')), (21, tensor([0., 0., 0., 1., 0., 0., 0., 0., 0., 0., 0., 0., 0., 0., 0., 0., 0., 0.,\n",
      "        0., 0., 0.], device='cuda:0')), (13, tensor([0., 0., 0., 0., 1., 0., 0., 0., 0., 0., 0., 0., 0., 0., 0., 0., 0., 0.,\n",
      "        0., 0., 0.], device='cuda:0')), (26, tensor([0., 0., 0., 0., 0., 1., 0., 0., 0., 0., 0., 0., 0., 0., 0., 0., 0., 0.,\n",
      "        0., 0., 0.], device='cuda:0')), (7, tensor([0., 0., 0., 0., 0., 0., 1., 0., 0., 0., 0., 0., 0., 0., 0., 0., 0., 0.,\n",
      "        0., 0., 0.], device='cuda:0')), (11, tensor([0., 0., 0., 0., 0., 0., 0., 1., 0., 0., 0., 0., 0., 0., 0., 0., 0., 0.,\n",
      "        0., 0., 0.], device='cuda:0')), (12, tensor([0., 0., 0., 0., 0., 0., 0., 0., 1., 0., 0., 0., 0., 0., 0., 0., 0., 0.,\n",
      "        0., 0., 0.], device='cuda:0')), (6, tensor([0., 0., 0., 0., 0., 0., 0., 0., 0., 1., 0., 0., 0., 0., 0., 0., 0., 0.,\n",
      "        0., 0., 0.], device='cuda:0')), (17, tensor([0., 0., 0., 0., 0., 0., 0., 0., 0., 0., 1., 0., 0., 0., 0., 0., 0., 0.,\n",
      "        0., 0., 0.], device='cuda:0')), (9, tensor([0., 0., 0., 0., 0., 0., 0., 0., 0., 0., 0., 1., 0., 0., 0., 0., 0., 0.,\n",
      "        0., 0., 0.], device='cuda:0')), (42, tensor([0., 0., 0., 0., 0., 0., 0., 0., 0., 0., 0., 0., 1., 0., 0., 0., 0., 0.,\n",
      "        0., 0., 0.], device='cuda:0')), (34, tensor([0., 0., 0., 0., 0., 0., 0., 0., 0., 0., 0., 0., 0., 1., 0., 0., 0., 0.,\n",
      "        0., 0., 0.], device='cuda:0')), (20, tensor([0., 0., 0., 0., 0., 0., 0., 0., 0., 0., 0., 0., 0., 0., 1., 0., 0., 0.,\n",
      "        0., 0., 0.], device='cuda:0')), (41, tensor([0., 0., 0., 0., 0., 0., 0., 0., 0., 0., 0., 0., 0., 0., 0., 1., 0., 0.,\n",
      "        0., 0., 0.], device='cuda:0')), (39, tensor([0., 0., 0., 0., 0., 0., 0., 0., 0., 0., 0., 0., 0., 0., 0., 0., 1., 0.,\n",
      "        0., 0., 0.], device='cuda:0')), (33, tensor([0., 0., 0., 0., 0., 0., 0., 0., 0., 0., 0., 0., 0., 0., 0., 0., 0., 1.,\n",
      "        0., 0., 0.], device='cuda:0')), (30, tensor([0., 0., 0., 0., 0., 0., 0., 0., 0., 0., 0., 0., 0., 0., 0., 0., 0., 0.,\n",
      "        1., 0., 0.], device='cuda:0')), (38, tensor([0., 0., 0., 0., 0., 0., 0., 0., 0., 0., 0., 0., 0., 0., 0., 0., 0., 0.,\n",
      "        0., 1., 0.], device='cuda:0')), (0, tensor([0., 0., 0., 0., 0., 0., 0., 0., 0., 0., 0., 0., 0., 0., 0., 0., 0., 0.,\n",
      "        0., 0., 1.], device='cuda:0'))])\n"
     ]
    }
   ],
   "source": [
    "import torch\n",
    "import numpy as np\n",
    "from pyntcloud import PyntCloud  # Ensure PyntCloud is installed\n",
    "from pathlib import Path\n",
    "from collections import OrderedDict\n",
    "device = torch.device(\"cuda\" if torch.cuda.is_available() else \"cpu\")\n",
    "\n",
    "# Example usage based on your context\n",
    "labels = torch.tensor(\n",
    "    np.append(\n",
    "        PyntCloud.from_file(str(Path(\"/root/docker_data/MSthesis/0000004916_0000005264.ply\"))).points['semantic'].unique(),\n",
    "        0  # Adding one zero for empty space\n",
    "    )\n",
    ").to(device)\n",
    "\n",
    "# Number of unique labels\n",
    "num_labels = len(labels)\n",
    "\n",
    "# One-hot encoding matrix\n",
    "one_hot_encoded = torch.eye(num_labels, device=device)  # Identity matrix for one-hot encoding\n",
    "gt_dict = OrderedDict()\n",
    "# Create a dictionary mapping each label to its one-hot encoding\n",
    "for i, label in enumerate(labels):\n",
    "    gt_dict[int(label.item())] = one_hot_encoded[i]\n",
    "\n",
    "print(gt_dict)"
   ]
  },
  {
   "cell_type": "code",
   "execution_count": 7,
   "metadata": {},
   "outputs": [
    {
     "data": {
      "text/plain": [
       "35"
      ]
     },
     "execution_count": 7,
     "metadata": {},
     "output_type": "execute_result"
    }
   ],
   "source": [
    "list(gt_dict.keys())[0]"
   ]
  },
  {
   "cell_type": "code",
   "execution_count": 8,
   "metadata": {},
   "outputs": [],
   "source": [
    "gt_dict.keys()\n",
    "from itertools import islice\n",
    "key_at_5 = next(islice(gt_dict.keys(), 5, 6))"
   ]
  },
  {
   "cell_type": "code",
   "execution_count": null,
   "metadata": {},
   "outputs": [],
   "source": []
  },
  {
   "cell_type": "code",
   "execution_count": 9,
   "metadata": {},
   "outputs": [],
   "source": [
    "def add_label(pointcloud, semantic_data_static, semantic_data_dynamic):\n",
    "    # Valid static IDs: sidewalk, road, building, vehicle, vegetation\n",
    "    valid_static_ids = [8, 7, 11, 26, 21] \n",
    "    \n",
    "    # Get static point coordinates and labels\n",
    "    semantic_points_static = semantic_data_static[['x', 'y', 'z']].values  # Shape (N, 3)\n",
    "    semantic_ids_static = semantic_data_static['semantic'].values  # Shape (N,)\n",
    "    \n",
    "    # Initialize all static labels as 100\n",
    "    modified_semantic_static = np.full_like(semantic_ids_static, 100)\n",
    "    \n",
    "    # Keep only the valid IDs\n",
    "    for valid_id in valid_static_ids:\n",
    "        modified_semantic_static[semantic_ids_static == valid_id] = valid_id\n",
    "    \n",
    "    # Change ID 34 to building (11)\n",
    "    modified_semantic_static[semantic_ids_static == 34] = 11\n",
    "    \n",
    "    # Set all dynamic points as vehicles (26)\n",
    "    semantic_ids_dynamic = np.full_like(semantic_data_dynamic['semantic'].values, 26)\n",
    "    semantic_points_dynamic = semantic_data_dynamic[['x', 'y', 'z']].values\n",
    "    \n",
    "    # Create KD-Tree from semantic points\n",
    "    semantic_tree_static = cKDTree(semantic_points_static)\n",
    "    semantic_tree_dynamic = cKDTree(semantic_points_dynamic)\n",
    "    \n",
    "    # Prepare array for semantic IDs\n",
    "    semantic_ids_for_pointcloud = np.empty(len(pointcloud), dtype=semantic_ids_static.dtype)\n",
    "    \n",
    "    # Find closest points and assign labels\n",
    "    for i in tqdm(range(len(pointcloud))):\n",
    "        point = pointcloud[i, :3]  # Get the (x, y, z) part of pointcloud row\n",
    "        static_dist, static_idx = semantic_tree_static.query(point)\n",
    "        dynamic_dist, dynamic_idx = semantic_tree_dynamic.query(point)\n",
    "        \n",
    "        if static_dist <= dynamic_dist:\n",
    "            semantic_ids_for_pointcloud[i] = modified_semantic_static[static_idx]\n",
    "        else:\n",
    "            semantic_ids_for_pointcloud[i] = semantic_ids_dynamic[dynamic_idx]\n",
    "    \n",
    "    # Add semantic labels as new column\n",
    "    pointcloud_with_semantics = np.hstack((pointcloud, semantic_ids_for_pointcloud.reshape(-1, 1)))\n",
    "    \n",
    "    return pointcloud_with_semantics"
   ]
  },
  {
   "cell_type": "code",
   "execution_count": 10,
   "metadata": {},
   "outputs": [
    {
     "name": "stderr",
     "output_type": "stream",
     "text": [
      "100%|██████████| 117607/117607 [00:01<00:00, 67075.30it/s]\n"
     ]
    }
   ],
   "source": [
    "import os\n",
    "import argparse\n",
    "import numpy as np\n",
    "from pathlib import Path\n",
    "from tqdm import tqdm\n",
    "import cv2\n",
    "from utils.convert import lidar_to_pano_with_intensities, lidar_to_pano_with_intensities_and_labels\n",
    "# from .kitti360_loader import KITTI360Loader\n",
    "from data.preprocess.kitti360_loader import KITTI360Loader\n",
    "import re\n",
    "from pathlib import Path\n",
    "from pyntcloud import PyntCloud\n",
    "import numpy as np\n",
    "import pandas as pd\n",
    "from scipy.spatial import cKDTree\n",
    "from tqdm import tqdm\n",
    "\n",
    "sequence_name = \"2013_05_28_drive_0000\"\n",
    "lidar_path = \"/root/docker_data/LiDAR4D/data/kitti360/KITTI-360/data_3d_raw/2013_05_28_drive_0000_sync/velodyne_points/data/0000004954.bin\"\n",
    "kitti_360_root = \"/root/docker_data/LiDAR4D/data/kitti360/KITTI-360\"\n",
    "semantic_data_static = PyntCloud.from_file(str(Path(\"/root/docker_data/MSthesis/0000004916_0000005264.ply\"))).points\n",
    "semantic_data_dynamic = PyntCloud.from_file(str(Path(\"/root/docker_data/MSthesis/0000004916_0000005264_dynamic.ply\"))).points\n",
    "frame_id = 4954\n",
    "k3 = KITTI360Loader(kitti_360_root)\n",
    "lidar2world = k3.load_lidars(sequence_name, [frame_id])\n",
    "point_cloud = np.fromfile(lidar_path, dtype=np.float32)\n",
    "point_cloud = point_cloud.reshape((-1, 4))\n",
    "# Add homogeneous coordinate for transformation\n",
    "point_cloud_homogeneous = np.concatenate([point_cloud[:, :3], \n",
    "                                            np.ones((point_cloud.shape[0], 1))], \n",
    "                                            axis=1)\n",
    "point_cloud_transformed = (point_cloud_homogeneous @ lidar2world[0].T)\n",
    "\n",
    "# Restore intensity values after transformation\n",
    "point_cloud_transformed[:, 3] = point_cloud[:, 3]\n",
    "points_with_label = add_label(pointcloud=point_cloud_transformed,\n",
    "                              semantic_data_static=semantic_data_static,\n",
    "                              semantic_data_dynamic = semantic_data_dynamic[semantic_data_dynamic[\"timestamp\"]==frame_id])"
   ]
  },
  {
   "cell_type": "code",
   "execution_count": 11,
   "metadata": {},
   "outputs": [],
   "source": [
    "np.savetxt(\"points_with_label.txt\", points_with_label)"
   ]
  },
  {
   "cell_type": "code",
   "execution_count": 12,
   "metadata": {},
   "outputs": [
    {
     "data": {
      "text/plain": [
       "tensor([  8,   7,  11,  26,  21, 100])"
      ]
     },
     "execution_count": 12,
     "metadata": {},
     "output_type": "execute_result"
    }
   ],
   "source": [
    "torch.tensor([8,7,11,26,21,100])"
   ]
  },
  {
   "cell_type": "code",
   "execution_count": 13,
   "metadata": {},
   "outputs": [
    {
     "data": {
      "text/plain": [
       "PyntCloud\n",
       "3565096 points with 7 scalar fields\n",
       "0 faces in mesh\n",
       "0 kdtrees\n",
       "0 voxelgrids\n",
       "Centroid: 1353.3896484375, 3605.112548828125, 116.02003479003906\n",
       "Other attributes:\n",
       "\t comments: <class 'list'>"
      ]
     },
     "execution_count": 13,
     "metadata": {},
     "output_type": "execute_result"
    }
   ],
   "source": [
    "import os\n",
    "import argparse\n",
    "import numpy as np\n",
    "from pathlib import Path\n",
    "from tqdm import tqdm\n",
    "import cv2\n",
    "from utils.convert import lidar_to_pano_with_intensities, lidar_to_pano_with_intensities_and_labels\n",
    "# from .kitti360_loader import KITTI360Loader\n",
    "from data.preprocess.kitti360_loader import KITTI360Loader\n",
    "import re\n",
    "from pathlib import Path\n",
    "from pyntcloud import PyntCloud\n",
    "import numpy as np\n",
    "import pandas as pd\n",
    "from scipy.spatial import cKDTree\n",
    "from tqdm import tqdm\n",
    "data = PyntCloud.from_file(str(Path(\"/root/docker_data/MSthesis/0000004916_0000005264.ply\")))\n",
    "data"
   ]
  },
  {
   "cell_type": "code",
   "execution_count": 14,
   "metadata": {},
   "outputs": [],
   "source": [
    "labels = torch.tensor(\n",
    "            np.append(\n",
    "                PyntCloud.from_file(str(Path(\"/root/docker_data/MSthesis/0000004916_0000005264.ply\"))).points['semantic'].unique(),\n",
    "                PyntCloud.from_file(str(Path(\"/root/docker_data/MSthesis/0000004916_0000005264_dynamic.ply\"))).points['semantic'].unique(),0\n",
    "            )\n",
    "        )"
   ]
  },
  {
   "cell_type": "code",
   "execution_count": 15,
   "metadata": {},
   "outputs": [
    {
     "data": {
      "text/plain": [
       "tensor([35, 22,  8, 21, 13, 26,  7, 11, 12,  6, 17,  9, 42, 34, 20, 41, 39, 33,\n",
       "        30, 38, 26, 27], dtype=torch.int32)"
      ]
     },
     "execution_count": 15,
     "metadata": {},
     "output_type": "execute_result"
    }
   ],
   "source": [
    "labels"
   ]
  },
  {
   "cell_type": "code",
   "execution_count": 16,
   "metadata": {},
   "outputs": [
    {
     "data": {
      "text/plain": [
       "22"
      ]
     },
     "execution_count": 16,
     "metadata": {},
     "output_type": "execute_result"
    }
   ],
   "source": [
    "len(labels)"
   ]
  },
  {
   "cell_type": "code",
   "execution_count": 17,
   "metadata": {},
   "outputs": [],
   "source": [
    "# import xml.etree.ElementTree as ET\n",
    "\n",
    "# # Parse the XML content\n",
    "# tree = ET.parse('/root/docker_data/MSthesis/2013_05_28_drive_0000_sync.xml')  # replace with your XML file path\n",
    "# root = tree.getroot()\n",
    "\n",
    "# # Find all object-like elements by checking their tag names (object1, object2, ...)\n",
    "# objects = [child for child in root if child.tag.startswith('object')]\n",
    "\n",
    "# # Initialize a set to store unique label and semanticId pairs\n",
    "# unique_data = set()\n",
    "\n",
    "# # Iterate over each object-like element\n",
    "# for obj in objects:\n",
    "#     label = obj.find('label').text  # Get the label text\n",
    "#     semantic_id = obj.find('semanticId').text  # Get the semanticId text\n",
    "    \n",
    "#     # Add the tuple (label, semanticId) to the set for uniqueness\n",
    "#     unique_data.add((label, semantic_id))\n",
    "\n",
    "# # Print the unique labels and semantic IDs\n",
    "# for label, semantic_id in unique_data:\n",
    "#     print(f\"Label: {label}, Semantic ID: {semantic_id}\")\n"
   ]
  },
  {
   "cell_type": "code",
   "execution_count": 18,
   "metadata": {},
   "outputs": [],
   "source": [
    "import numpy as np\n",
    "\n",
    "# Input array\n",
    "labels = np.array(semantic_data.points['semantic'].unique(), dtype=np.int32)\n",
    "\n",
    "# Determine the number of classes (the largest label + 1)\n",
    "num_classes = len(labels)\n",
    "print(num_classes)\n",
    "# Create one-hot encoded labels\n",
    "one_hot_encoded = np.eye(num_classes)\n",
    "\n",
    "# Print result\n",
    "print(\"Original labels:\", labels)\n",
    "print(\"One-hot encoded labels:\\n\", one_hot_encoded)\n",
    "\n",
    "gt_dict = {labels:one_hot_encoded[i].to(tensor) for i,labels in enumerate(labels)}\n",
    "gt_dict"
   ]
  },
  {
   "cell_type": "code",
   "execution_count": 6,
   "metadata": {},
   "outputs": [
    {
     "name": "stdout",
     "output_type": "stream",
     "text": [
      "Setting up [LPIPS] perceptual loss: trunk [alex], v[0.1], spatial [off]\n"
     ]
    },
    {
     "name": "stderr",
     "output_type": "stream",
     "text": [
      "/root/miniconda3/envs/lidar4d/lib/python3.9/site-packages/torchvision/models/_utils.py:208: UserWarning: The parameter 'pretrained' is deprecated since 0.13 and may be removed in the future, please use 'weights' instead.\n",
      "  warnings.warn(\n",
      "/root/miniconda3/envs/lidar4d/lib/python3.9/site-packages/torchvision/models/_utils.py:223: UserWarning: Arguments other than a weight enum or `None` for 'weights' are deprecated since 0.13 and may be removed in the future. The current behavior is equivalent to passing `weights=AlexNet_Weights.IMAGENET1K_V1`. You can also use `weights=AlexNet_Weights.DEFAULT` to get the most up-to-date weights.\n",
      "  warnings.warn(msg)\n"
     ]
    },
    {
     "name": "stdout",
     "output_type": "stream",
     "text": [
      "Loading model from: /root/miniconda3/envs/lidar4d/lib/python3.9/site-packages/lpips/weights/v0.1/alex.pth\n",
      "Setting up [LPIPS] perceptual loss: trunk [alex], v[0.1], spatial [off]\n"
     ]
    },
    {
     "name": "stderr",
     "output_type": "stream",
     "text": [
      "/root/miniconda3/envs/lidar4d/lib/python3.9/site-packages/lpips/lpips.py:107: FutureWarning: You are using `torch.load` with `weights_only=False` (the current default value), which uses the default pickle module implicitly. It is possible to construct malicious pickle data which will execute arbitrary code during unpickling (See https://github.com/pytorch/pytorch/blob/main/SECURITY.md#untrusted-models for more details). In a future release, the default value for `weights_only` will be flipped to `True`. This limits the functions that could be executed during unpickling. Arbitrary objects will no longer be allowed to be loaded via this mode unless they are explicitly allowlisted by the user via `torch.serialization.add_safe_globals`. We recommend you start setting `weights_only=True` for any use case where you don't have full control of the loaded file. Please open an issue on GitHub for any issues related to this experimental feature.\n",
      "  self.load_state_dict(torch.load(model_path, map_location='cpu'), strict=False)\n"
     ]
    },
    {
     "name": "stdout",
     "output_type": "stream",
     "text": [
      "Loading model from: /root/miniconda3/envs/lidar4d/lib/python3.9/site-packages/lpips/weights/v0.1/alex.pth\n"
     ]
    }
   ],
   "source": [
    "loss_dict = {\n",
    "    \"mse\": torch.nn.MSELoss(reduction=\"none\"),\n",
    "    \"l1\": torch.nn.L1Loss(reduction=\"none\"),\n",
    "    \"bce\": torch.nn.BCEWithLogitsLoss(reduction=\"none\"),\n",
    "    \"huber\": torch.nn.HuberLoss(reduction=\"none\", delta=0.2 * opt.scale),\n",
    "    \"cos\": torch.nn.CosineSimilarity(),\n",
    "}\n",
    "criterion = {\n",
    "    \"depth\": loss_dict[opt.depth_loss],\n",
    "    \"raydrop\": loss_dict[opt.raydrop_loss],\n",
    "    \"intensity\": loss_dict[opt.intensity_loss],\n",
    "    'label': loss_dict[opt.label_loss],\n",
    "    \"grad\": loss_dict[opt.depth_grad_loss],\n",
    "}\n",
    "\n",
    "device = torch.device(\"cuda\" if torch.cuda.is_available() else \"cpu\")\n",
    "\n",
    "lidar_metrics = [\n",
    "    RaydropMeter(ratio=opt.raydrop_ratio),\n",
    "    IntensityMeter(scale=opt.intensity_scale),\n",
    "    DepthMeter(scale=opt.scale),\n",
    "    PointsMeter(scale=opt.scale, intrinsics=opt.fov_lidar),\n",
    "    LabelMeter()\n",
    "]"
   ]
  },
  {
   "cell_type": "code",
   "execution_count": 7,
   "metadata": {},
   "outputs": [
    {
     "data": {
      "text/plain": [
       "[<utils.metrics.RaydropMeter at 0x760674221d00>,\n",
       " <utils.metrics.IntensityMeter at 0x760674221790>,\n",
       " <utils.metrics.DepthMeter at 0x76067421e9a0>,\n",
       " <utils.metrics.PointsMeter at 0x760671f2f7f0>,\n",
       " <utils.metrics.LabelMeter at 0x760671f2fa90>]"
      ]
     },
     "execution_count": 7,
     "metadata": {},
     "output_type": "execute_result"
    }
   ],
   "source": [
    "lidar_metrics"
   ]
  },
  {
   "cell_type": "code",
   "execution_count": 8,
   "metadata": {},
   "outputs": [
    {
     "name": "stdout",
     "output_type": "stream",
     "text": [
      "Using sequence 4950-5000\n",
      "Using sequence 4950-5000\n"
     ]
    },
    {
     "name": "stderr",
     "output_type": "stream",
     "text": [
      "Loading train data: 100%|██████████| 47/47 [00:02<00:00, 16.10it/s]\n"
     ]
    },
    {
     "name": "stdout",
     "output_type": "stream",
     "text": [
      "Using sequence 4950-5000\n",
      "Using sequence 4950-5000\n"
     ]
    },
    {
     "name": "stderr",
     "output_type": "stream",
     "text": [
      "Loading val data: 100%|██████████| 4/4 [00:00<00:00, 453.57it/s]\n"
     ]
    },
    {
     "name": "stdout",
     "output_type": "stream",
     "text": [
      "Using sequence 4950-5000\n",
      "Using sequence 4950-5000\n"
     ]
    },
    {
     "name": "stderr",
     "output_type": "stream",
     "text": [
      "Loading train data: 100%|██████████| 47/47 [00:00<00:00, 439.62it/s]\n"
     ]
    }
   ],
   "source": [
    "train_loader = NeRFDataset(\n",
    "            device=device,\n",
    "            split=\"train\",\n",
    "            root_path=opt.path,\n",
    "            sequence_id=opt.sequence_id,\n",
    "            preload=opt.preload,\n",
    "            scale=opt.scale,\n",
    "            offset=opt.offset,\n",
    "            fp16=opt.fp16,\n",
    "            patch_size_lidar=opt.patch_size_lidar,\n",
    "            num_rays_lidar=opt.num_rays_lidar,\n",
    "            fov_lidar=opt.fov_lidar,\n",
    "        ).dataloader()\n",
    "valid_loader = NeRFDataset(\n",
    "            device=device,\n",
    "            split=\"val\",\n",
    "            root_path=opt.path,\n",
    "            sequence_id=opt.sequence_id,\n",
    "            preload=opt.preload,\n",
    "            scale=opt.scale,\n",
    "            offset=opt.offset,\n",
    "            fp16=opt.fp16,\n",
    "            patch_size_lidar=opt.patch_size_lidar,\n",
    "            num_rays_lidar=opt.num_rays_lidar,\n",
    "            fov_lidar=opt.fov_lidar,\n",
    "        ).dataloader()\n",
    "refine_loader = NeRFDataset(\n",
    "            device=device,\n",
    "            split=\"refine\",\n",
    "            root_path=opt.path,\n",
    "            sequence_id=opt.sequence_id,\n",
    "            preload=opt.preload,\n",
    "            scale=opt.scale,\n",
    "            offset=opt.offset,\n",
    "            fp16=opt.fp16,\n",
    "            patch_size_lidar=opt.patch_size_lidar,\n",
    "            num_rays_lidar=opt.num_rays_lidar,\n",
    "            fov_lidar=opt.fov_lidar,\n",
    "        ).dataloader()"
   ]
  },
  {
   "cell_type": "code",
   "execution_count": 9,
   "metadata": {},
   "outputs": [
    {
     "name": "stdout",
     "output_type": "stream",
     "text": [
      "Using sequence 4950-5000\n",
      "Using sequence 4950-5000\n"
     ]
    },
    {
     "name": "stderr",
     "output_type": "stream",
     "text": [
      "Loading test data: 100%|██████████| 4/4 [00:00<00:00, 279.20it/s]\n"
     ]
    }
   ],
   "source": [
    "test_loader = NeRFDataset(\n",
    "            device=device,\n",
    "            split=\"test\",\n",
    "            root_path=opt.path,\n",
    "            sequence_id=opt.sequence_id,\n",
    "            preload=opt.preload,\n",
    "            scale=opt.scale,\n",
    "            offset=opt.offset,\n",
    "            fp16=opt.fp16,\n",
    "            patch_size_lidar=opt.patch_size_lidar,\n",
    "            num_rays_lidar=opt.num_rays_lidar,\n",
    "            fov_lidar=opt.fov_lidar,\n",
    "        ).dataloader()\n"
   ]
  },
  {
   "cell_type": "code",
   "execution_count": 15,
   "metadata": {},
   "outputs": [
    {
     "data": {
      "text/plain": [
       "tensor([[0., 0., 0.,  ..., 0., 0., 0.],\n",
       "        [0., 0., 0.,  ..., 0., 0., 0.],\n",
       "        [0., 0., 0.,  ..., 0., 0., 0.],\n",
       "        ...,\n",
       "        [0., 0., 0.,  ..., 0., 0., 0.],\n",
       "        [0., 0., 0.,  ..., 0., 0., 0.],\n",
       "        [0., 0., 0.,  ..., 0., 0., 0.]], device='cuda:0', dtype=torch.float16)"
      ]
     },
     "execution_count": 15,
     "metadata": {},
     "output_type": "execute_result"
    }
   ],
   "source": [
    "next(iter(test_loader))['images_lidar'][0,:,:,3]"
   ]
  },
  {
   "cell_type": "code",
   "execution_count": 65,
   "metadata": {},
   "outputs": [],
   "source": [
    "from utils.convert import pano_to_lidar_with_intensities_label\n",
    "lidar_k = refine_loader._data.intrinsics_lidar\n",
    "a = a.detach().cpu().numpy()\n",
    "x = pano_to_lidar_with_intensities_label(a[:,:,2], a[:,:,1], a[:,:,3], lidar_k)"
   ]
  },
  {
   "cell_type": "code",
   "execution_count": 67,
   "metadata": {},
   "outputs": [],
   "source": [
    "np.savetxt(\"change_point_cloud.txt\", x)"
   ]
  },
  {
   "cell_type": "code",
   "execution_count": 6,
   "metadata": {},
   "outputs": [
    {
     "data": {
      "text/plain": [
       "<matplotlib.image.AxesImage at 0x76e64d014940>"
      ]
     },
     "execution_count": 6,
     "metadata": {},
     "output_type": "execute_result"
    },
    {
     "data": {
      "image/png": "[encoded data removed]",
      "text/plain": [
       "<Figure size 640x480 with 1 Axes>"
      ]
     },
     "metadata": {},
     "output_type": "display_data"
    }
   ],
   "source": [
    "import cv2\n",
    "import matplotlib.pyplot as plt\n",
    "\n",
    "a = next(iter(refine_loader))['images_lidar'][0]\n",
    "label_matrix = a[:,:,3].detach().cpu().numpy()\n",
    "unique_labels = np.unique(label_matrix)\n",
    "colors = {label: tuple(np.random.randint(0, 256, 3)) for label in unique_labels}\n",
    "height, width = label_matrix.shape\n",
    "color_image = np.zeros((height, width, 3), dtype=np.uint8)\n",
    "for label, color in colors.items():\n",
    "        color_image[label_matrix == label] = color\n",
    "plt.imshow(color_image)"
   ]
  },
  {
   "cell_type": "code",
   "execution_count": 17,
   "metadata": {},
   "outputs": [
    {
     "data": {
      "text/plain": [
       "array([ 0.,  6.,  7.,  8.,  9., 11., 12., 13., 17., 21., 22., 26., 27.,\n",
       "       30., 34., 35., 39., 42.], dtype=float16)"
      ]
     },
     "execution_count": 17,
     "metadata": {},
     "output_type": "execute_result"
    }
   ],
   "source": [
    "unique_labels"
   ]
  },
  {
   "cell_type": "code",
   "execution_count": null,
   "metadata": {},
   "outputs": [
    {
     "data": {
      "image/png": "[encoded data removed]",
      "text/plain": [
       "<Figure size 640x480 with 1 Axes>"
      ]
     },
     "metadata": {},
     "output_type": "display_data"
    }
   ],
   "source": [
    "import numpy as np\n",
    "import matplotlib.pyplot as plt\n",
    "\n",
    "# Extract the label matrix\n",
    "a = next(iter(refine_loader))['images_lidar'][0]\n",
    "label_matrix = a[:, :, 3].detach().cpu().numpy()\n",
    "\n",
    "# Create a mask for label 13\n",
    "label_of_interest = \n",
    "mask = label_matrix == label_of_interest\n",
    "\n",
    "# Generate a color image with the same dimensions\n",
    "height, width = label_matrix.shape\n",
    "color_image = np.zeros((height, width, 3), dtype=np.uint8)\n",
    "\n",
    "# Assign a specific color to label 13 (e.g., red)\n",
    "color_for_label = (255, 0, 0)  # RGB for red\n",
    "color_image[mask] = color_for_label\n",
    "\n",
    "# Display the image\n",
    "plt.imshow(color_image)\n",
    "plt.title(f\"Visualization of Label {label_of_interest}\")\n",
    "plt.axis('off')\n",
    "plt.show()\n"
   ]
  },
  {
   "cell_type": "code",
   "execution_count": 53,
   "metadata": {},
   "outputs": [
    {
     "data": {
      "image/png": "[encoded data removed]",
      "text/plain": [
       "<Figure size 1000x500 with 1 Axes>"
      ]
     },
     "metadata": {},
     "output_type": "display_data"
    }
   ],
   "source": [
    "label_to_index = {label: idx for idx, label in enumerate(unique_labels)}\n",
    "\n",
    "# Create a normalized matrix where each label is replaced with its index\n",
    "normalized_matrix = np.vectorize(label_to_index.get)(label_matrix)\n",
    "\n",
    "# Scale the normalized matrix to [0, 255]\n",
    "img_label = (normalized_matrix / (len(unique_labels) - 1) * 255).astype(np.uint8)\n",
    "\n",
    "# Apply a colormap to visualize\n",
    "img_colored = cv2.applyColorMap(img_label, cv2.COLORMAP_JET)\n",
    "\n",
    "# Display using Matplotlib\n",
    "plt.figure(figsize=(10, 5))\n",
    "plt.imshow(cv2.cvtColor(img_colored, cv2.COLOR_BGR2RGB))  # Convert BGR to RGB for Matplotlib\n",
    "plt.axis('off')\n",
    "plt.title(\"Labeled Matrix Visualization\")\n",
    "plt.show()"
   ]
  },
  {
   "cell_type": "code",
   "execution_count": 30,
   "metadata": {},
   "outputs": [
    {
     "ename": "AttributeError",
     "evalue": "'vectorize' object has no attribute 'data'",
     "output_type": "error",
     "traceback": [
      "\u001b[0;31m---------------------------------------------------------------------------\u001b[0m",
      "\u001b[0;31mAttributeError\u001b[0m                            Traceback (most recent call last)",
      "Cell \u001b[0;32mIn[30], line 1\u001b[0m\n\u001b[0;32m----> 1\u001b[0m \u001b[43mnp\u001b[49m\u001b[38;5;241;43m.\u001b[39;49m\u001b[43mvectorize\u001b[49m\u001b[43m(\u001b[49m\u001b[43mlabel_to_index\u001b[49m\u001b[38;5;241;43m.\u001b[39;49m\u001b[43mget\u001b[49m\u001b[43m)\u001b[49m\u001b[38;5;241;43m.\u001b[39;49m\u001b[43mdata\u001b[49m\n",
      "\u001b[0;31mAttributeError\u001b[0m: 'vectorize' object has no attribute 'data'"
     ]
    }
   ],
   "source": [
    "np.vectorize(label_to_index.get)"
   ]
  },
  {
   "cell_type": "code",
   "execution_count": 23,
   "metadata": {},
   "outputs": [],
   "source": [
    "import matplotlib.pyplot as plt\n",
    "from PIL import Image\n",
    "from matplotlib.backends.backend_pdf import PdfPages\n",
    "# image_pil = Image.fromarray(a[:,:,0].cpu().numpy())\n",
    "# pdf_path = \"raydrop.pdf\"\n",
    "# image_pil.save(pdf_path, \"PDF\", resolution=500.0)\n",
    "pdf_path = \"label.pdf\"\n",
    "with PdfPages(pdf_path) as pdf:\n",
    "    # plt.figure(figsize=(6, 6))  # Set figure size\n",
    "    plt.figure(figsize=(8, 8), dpi=1000)\n",
    "    plt.imshow(a[:,:,3].cpu().numpy())  # Display the image array\n",
    "    plt.axis('off')  # Turn off axes\n",
    "    pdf.savefig()  # Save the current figure to the PDF\n",
    "    plt.close()\n"
   ]
  },
  {
   "cell_type": "code",
   "execution_count": 4,
   "metadata": {},
   "outputs": [
    {
     "data": {
      "text/plain": [
       "(66, 1030, 3)"
      ]
     },
     "execution_count": 4,
     "metadata": {},
     "output_type": "execute_result"
    },
    {
     "data": {
      "image/png": "[encoded data removed]",
      "text/plain": [
       "<Figure size 640x480 with 1 Axes>"
      ]
     },
     "metadata": {},
     "output_type": "display_data"
    }
   ],
   "source": [
    "import matplotlib.pyplot as plt\n",
    "from PIL import Image\n",
    "import numpy as np\n",
    "# Load the image\n",
    "img = Image.open(\"log/kitti360_lidar4d_f4950_release/validation/lidar4d_ep0100_0001.png\")  # Replace with your file path\n",
    "plt.imshow(img,cmap='viridis', vmin=0.2, vmax=0.8)\n",
    "from utils.convert import pano_to_lidar_with_intensities\n",
    "a = np.load(\"data/kitti360/train/0000004951.npy\")\n",
    "a.shape"
   ]
  },
  {
   "cell_type": "code",
   "execution_count": 7,
   "metadata": {},
   "outputs": [],
   "source": [
    "np.savetxt(\"4951.txt\", pano_to_lidar_with_intensities(a[:,:, 1], a[:,:, 2], [2,26.9]))"
   ]
  },
  {
   "cell_type": "code",
   "execution_count": 15,
   "metadata": {},
   "outputs": [
    {
     "data": {
      "text/plain": [
       "<matplotlib.image.AxesImage at 0x7f96021ffc70>"
      ]
     },
     "execution_count": 15,
     "metadata": {},
     "output_type": "execute_result"
    },
    {
     "data": {
      "image/png": "[encoded data removed]",
      "text/plain": [
       "<Figure size 640x480 with 1 Axes>"
      ]
     },
     "metadata": {},
     "output_type": "display_data"
    }
   ],
   "source": [
    "plt.imshow(a[:,:,2].cpu().numpy())"
   ]
  },
  {
   "cell_type": "code",
   "execution_count": 16,
   "metadata": {},
   "outputs": [
    {
     "data": {
      "text/plain": [
       "<matplotlib.image.AxesImage at 0x7f96020c9c40>"
      ]
     },
     "execution_count": 16,
     "metadata": {},
     "output_type": "execute_result"
    },
    {
     "data": {
      "image/png": "[encoded data removed]",
      "text/plain": [
       "<Figure size 640x480 with 1 Axes>"
      ]
     },
     "metadata": {},
     "output_type": "display_data"
    }
   ],
   "source": [
    "plt.imshow(a[:,:,3].cpu().numpy())"
   ]
  },
  {
   "cell_type": "code",
   "execution_count": null,
   "metadata": {},
   "outputs": [],
   "source": [
    "optimizer = lambda model: torch.optim.Adam(\n",
    "    model.get_params(opt.lr), betas=(0.9, 0.99), eps=1e-15\n",
    ")\n",
    "\n",
    "# decay to 0.1 * init_lr at last iter step\n",
    "scheduler = lambda optimizer: torch.optim.lr_scheduler.LambdaLR(\n",
    "    optimizer, lambda iter: 0.1 ** min(iter / opt.iters, 1)\n",
    ")\n",
    "\n",
    "trainer = Trainer(\n",
    "    \"lidar4d\",\n",
    "    opt,\n",
    "    model,\n",
    "    device=device,\n",
    "    workspace=opt.workspace,\n",
    "    criterion=criterion,\n",
    "    fp16=opt.fp16,\n",
    "    lidar_metrics=lidar_metrics,\n",
    "    use_checkpoint=\"scratch\",\n",
    "    optimizer=optimizer,\n",
    "    ema_decay=opt.ema_decay,\n",
    "    lr_scheduler=scheduler,\n",
    "    scheduler_update_every_step=True,\n",
    "    eval_interval=opt.eval_interval,\n",
    ")\n",
    "\n",
    "max_epoch = np.ceil(opt.iters / len(train_loader)).astype(np.int32)\n",
    "print(f\"max_epoch: {max_epoch}\")"
   ]
  },
  {
   "cell_type": "code",
   "execution_count": null,
   "metadata": {},
   "outputs": [],
   "source": [
    "trainer.train(train_loader, valid_loader, refine_loader, max_epoch)"
   ]
  },
  {
   "cell_type": "code",
   "execution_count": null,
   "metadata": {},
   "outputs": [],
   "source": [
    "import os\n",
    "import numpy as np\n",
    "import torch\n",
    "from torch.utils.data import Dataset, DataLoader\n",
    "import MinkowskiEngine as ME\n",
    "\n",
    "class LiDARScanDataset(Dataset):\n",
    "    def __init__(\n",
    "        self,\n",
    "        folder_path: str,\n",
    "        voxel_size: float = 0.05,\n",
    "        use_intensity: bool = True,\n",
    "        ignore_label: int = None\n",
    "    ):\n",
    "        self.folder_path = folder_path\n",
    "        self.voxel_size = voxel_size\n",
    "        self.use_intensity = use_intensity\n",
    "        self.ignore_label = ignore_label\n",
    "        self.file_list = self._get_file_list()\n",
    "\n",
    "    def _get_file_list(self):\n",
    "        return sorted(\n",
    "            os.path.join(self.folder_path, f) \n",
    "            for f in os.listdir(self.folder_path) \n",
    "            if f.endswith(\".txt\")\n",
    "        )\n",
    "\n",
    "    def __len__(self):\n",
    "        return len(self.file_list)\n",
    "\n",
    "    def __getitem__(self, idx: int):\n",
    "        # Load raw data from .txt file\n",
    "        scan_data = np.loadtxt(self.file_list[idx])\n",
    "        \n",
    "        # Extract components\n",
    "        coordinates = scan_data[:, :3].astype(np.float32)\n",
    "        intensity = scan_data[:, 3].astype(np.float32).reshape(-1, 1)\n",
    "        labels = scan_data[:, 4].astype(np.int32)\n",
    "        \n",
    "        # Handle features (intensity or ones)\n",
    "        features = intensity if self.use_intensity else np.ones((coordinates.shape[0], 1), dtype=np.float32)\n",
    "\n",
    "        # Voxel quantization\n",
    "        quantized_coords, quantized_feats, quantized_labels, _ = ME.utils.sparse_quantize(\n",
    "            coordinates=coordinates,\n",
    "            features=features,\n",
    "            labels=labels,\n",
    "            ignore_label=self.ignore_label if self.ignore_label is not None else -100,\n",
    "            quantization_size=self.voxel_size,\n",
    "            return_index=True,\n",
    "        )\n",
    "\n",
    "        # Convert to tensors\n",
    "        return {\n",
    "            \"coordinates\": torch.from_numpy(quantized_coords),\n",
    "            \"features\": torch.from_numpy(quantized_feats),\n",
    "            \"labels\": torch.from_numpy(quantized_labels),\n",
    "            \"sampled_idx\": None,  # No subsampling in this example\n",
    "            \"idx\": torch.tensor(idx)\n",
    "        }\n",
    "\n",
    "def custom_collate_fn(batch):\n",
    "    \"\"\"Collate function that sorts data by number of points\"\"\"\n",
    "    batch.sort(key=lambda x: x['coordinates'].shape[0], reverse=True)\n",
    "    return batch\n",
    "\n",
    "# Usage example\n",
    "if __name__ == \"__main__\":\n",
    "    LIDAR_FOLDER = '/root/docker_data/MSthesis/log/kitti360_lidar4d_f4950_release/simulation/points'\n",
    "    \n",
    "    dataset = LiDARScanDataset(\n",
    "        folder_path=LIDAR_FOLDER,\n",
    "        voxel_size=0.05,\n",
    "        use_intensity=True,\n",
    "        ignore_label=None\n",
    "    )\n",
    "    \n",
    "    dataloader = DataLoader(\n",
    "        dataset,\n",
    "        batch_size=16,\n",
    "        shuffle=True,\n",
    "        collate_fn=custom_collate_fn\n",
    "    )\n",
    "\n",
    "    # Verify output format\n",
    "    for batch in dataloader:\n",
    "        sample = batch[0]\n",
    "        print(f\"Coordinates shape: {sample['coordinates'].shape}\")\n",
    "        print(f\"Features shape: {sample['features'].shape}\")\n",
    "        print(f\"Labels shape: {sample['labels'].shape}\")\n",
    "        break"
   ]
  },
  {
   "cell_type": "code",
   "execution_count": 7,
   "metadata": {},
   "outputs": [
    {
     "name": "stdout",
     "output_type": "stream",
     "text": [
      "\u001b[1;33m[Open3D WARNING] GLFW Error: X11: The DISPLAY environment variable is missing\u001b[0;m\n",
      "\u001b[1;33m[Open3D WARNING] Failed to initialize GLFW\u001b[0;m\n"
     ]
    },
    {
     "ename": "UnicodeDecodeError",
     "evalue": "'utf-8' codec can't decode byte 0x93 in position 0: invalid start byte",
     "output_type": "error",
     "traceback": [
      "\u001b[0;31m---------------------------------------------------------------------------\u001b[0m",
      "\u001b[0;31mUnicodeDecodeError\u001b[0m                        Traceback (most recent call last)",
      "Cell \u001b[0;32mIn[7], line 29\u001b[0m\n\u001b[1;32m     26\u001b[0m file_path \u001b[38;5;241m=\u001b[39m os\u001b[38;5;241m.\u001b[39mpath\u001b[38;5;241m.\u001b[39mjoin(folder_path, file)\n\u001b[1;32m     28\u001b[0m \u001b[38;5;66;03m# Load the LiDAR data\u001b[39;00m\n\u001b[0;32m---> 29\u001b[0m data \u001b[38;5;241m=\u001b[39m \u001b[43mnp\u001b[49m\u001b[38;5;241;43m.\u001b[39;49m\u001b[43mloadtxt\u001b[49m\u001b[43m(\u001b[49m\u001b[43mfile_path\u001b[49m\u001b[43m)\u001b[49m  \u001b[38;5;66;03m# Assuming space-separated values\u001b[39;00m\n\u001b[1;32m     31\u001b[0m \u001b[38;5;66;03m# Extract x, y, z, and labels\u001b[39;00m\n\u001b[1;32m     32\u001b[0m x, y, z, labels \u001b[38;5;241m=\u001b[39m data[:, \u001b[38;5;241m0\u001b[39m], data[:, \u001b[38;5;241m1\u001b[39m], data[:, \u001b[38;5;241m2\u001b[39m], data[:, \u001b[38;5;241m4\u001b[39m]  \u001b[38;5;66;03m# Ignoring intensity\u001b[39;00m\n",
      "File \u001b[0;32m~/miniconda3/envs/lidar4d/lib/python3.9/site-packages/numpy/lib/npyio.py:1356\u001b[0m, in \u001b[0;36mloadtxt\u001b[0;34m(fname, dtype, comments, delimiter, converters, skiprows, usecols, unpack, ndmin, encoding, max_rows, quotechar, like)\u001b[0m\n\u001b[1;32m   1353\u001b[0m \u001b[38;5;28;01mif\u001b[39;00m \u001b[38;5;28misinstance\u001b[39m(delimiter, \u001b[38;5;28mbytes\u001b[39m):\n\u001b[1;32m   1354\u001b[0m     delimiter \u001b[38;5;241m=\u001b[39m delimiter\u001b[38;5;241m.\u001b[39mdecode(\u001b[38;5;124m'\u001b[39m\u001b[38;5;124mlatin1\u001b[39m\u001b[38;5;124m'\u001b[39m)\n\u001b[0;32m-> 1356\u001b[0m arr \u001b[38;5;241m=\u001b[39m \u001b[43m_read\u001b[49m\u001b[43m(\u001b[49m\u001b[43mfname\u001b[49m\u001b[43m,\u001b[49m\u001b[43m \u001b[49m\u001b[43mdtype\u001b[49m\u001b[38;5;241;43m=\u001b[39;49m\u001b[43mdtype\u001b[49m\u001b[43m,\u001b[49m\u001b[43m \u001b[49m\u001b[43mcomment\u001b[49m\u001b[38;5;241;43m=\u001b[39;49m\u001b[43mcomment\u001b[49m\u001b[43m,\u001b[49m\u001b[43m \u001b[49m\u001b[43mdelimiter\u001b[49m\u001b[38;5;241;43m=\u001b[39;49m\u001b[43mdelimiter\u001b[49m\u001b[43m,\u001b[49m\n\u001b[1;32m   1357\u001b[0m \u001b[43m            \u001b[49m\u001b[43mconverters\u001b[49m\u001b[38;5;241;43m=\u001b[39;49m\u001b[43mconverters\u001b[49m\u001b[43m,\u001b[49m\u001b[43m \u001b[49m\u001b[43mskiplines\u001b[49m\u001b[38;5;241;43m=\u001b[39;49m\u001b[43mskiprows\u001b[49m\u001b[43m,\u001b[49m\u001b[43m \u001b[49m\u001b[43musecols\u001b[49m\u001b[38;5;241;43m=\u001b[39;49m\u001b[43musecols\u001b[49m\u001b[43m,\u001b[49m\n\u001b[1;32m   1358\u001b[0m \u001b[43m            \u001b[49m\u001b[43munpack\u001b[49m\u001b[38;5;241;43m=\u001b[39;49m\u001b[43munpack\u001b[49m\u001b[43m,\u001b[49m\u001b[43m \u001b[49m\u001b[43mndmin\u001b[49m\u001b[38;5;241;43m=\u001b[39;49m\u001b[43mndmin\u001b[49m\u001b[43m,\u001b[49m\u001b[43m \u001b[49m\u001b[43mencoding\u001b[49m\u001b[38;5;241;43m=\u001b[39;49m\u001b[43mencoding\u001b[49m\u001b[43m,\u001b[49m\n\u001b[1;32m   1359\u001b[0m \u001b[43m            \u001b[49m\u001b[43mmax_rows\u001b[49m\u001b[38;5;241;43m=\u001b[39;49m\u001b[43mmax_rows\u001b[49m\u001b[43m,\u001b[49m\u001b[43m \u001b[49m\u001b[43mquote\u001b[49m\u001b[38;5;241;43m=\u001b[39;49m\u001b[43mquotechar\u001b[49m\u001b[43m)\u001b[49m\n\u001b[1;32m   1361\u001b[0m \u001b[38;5;28;01mreturn\u001b[39;00m arr\n",
      "File \u001b[0;32m~/miniconda3/envs/lidar4d/lib/python3.9/site-packages/numpy/lib/npyio.py:999\u001b[0m, in \u001b[0;36m_read\u001b[0;34m(fname, delimiter, comment, quote, imaginary_unit, usecols, skiplines, max_rows, converters, ndmin, unpack, dtype, encoding)\u001b[0m\n\u001b[1;32m    996\u001b[0m     data \u001b[38;5;241m=\u001b[39m _preprocess_comments(data, comments, encoding)\n\u001b[1;32m    998\u001b[0m \u001b[38;5;28;01mif\u001b[39;00m read_dtype_via_object_chunks \u001b[38;5;129;01mis\u001b[39;00m \u001b[38;5;28;01mNone\u001b[39;00m:\n\u001b[0;32m--> 999\u001b[0m     arr \u001b[38;5;241m=\u001b[39m \u001b[43m_load_from_filelike\u001b[49m\u001b[43m(\u001b[49m\n\u001b[1;32m   1000\u001b[0m \u001b[43m        \u001b[49m\u001b[43mdata\u001b[49m\u001b[43m,\u001b[49m\u001b[43m \u001b[49m\u001b[43mdelimiter\u001b[49m\u001b[38;5;241;43m=\u001b[39;49m\u001b[43mdelimiter\u001b[49m\u001b[43m,\u001b[49m\u001b[43m \u001b[49m\u001b[43mcomment\u001b[49m\u001b[38;5;241;43m=\u001b[39;49m\u001b[43mcomment\u001b[49m\u001b[43m,\u001b[49m\u001b[43m \u001b[49m\u001b[43mquote\u001b[49m\u001b[38;5;241;43m=\u001b[39;49m\u001b[43mquote\u001b[49m\u001b[43m,\u001b[49m\n\u001b[1;32m   1001\u001b[0m \u001b[43m        \u001b[49m\u001b[43mimaginary_unit\u001b[49m\u001b[38;5;241;43m=\u001b[39;49m\u001b[43mimaginary_unit\u001b[49m\u001b[43m,\u001b[49m\n\u001b[1;32m   1002\u001b[0m \u001b[43m        \u001b[49m\u001b[43musecols\u001b[49m\u001b[38;5;241;43m=\u001b[39;49m\u001b[43musecols\u001b[49m\u001b[43m,\u001b[49m\u001b[43m \u001b[49m\u001b[43mskiplines\u001b[49m\u001b[38;5;241;43m=\u001b[39;49m\u001b[43mskiplines\u001b[49m\u001b[43m,\u001b[49m\u001b[43m \u001b[49m\u001b[43mmax_rows\u001b[49m\u001b[38;5;241;43m=\u001b[39;49m\u001b[43mmax_rows\u001b[49m\u001b[43m,\u001b[49m\n\u001b[1;32m   1003\u001b[0m \u001b[43m        \u001b[49m\u001b[43mconverters\u001b[49m\u001b[38;5;241;43m=\u001b[39;49m\u001b[43mconverters\u001b[49m\u001b[43m,\u001b[49m\u001b[43m \u001b[49m\u001b[43mdtype\u001b[49m\u001b[38;5;241;43m=\u001b[39;49m\u001b[43mdtype\u001b[49m\u001b[43m,\u001b[49m\n\u001b[1;32m   1004\u001b[0m \u001b[43m        \u001b[49m\u001b[43mencoding\u001b[49m\u001b[38;5;241;43m=\u001b[39;49m\u001b[43mencoding\u001b[49m\u001b[43m,\u001b[49m\u001b[43m \u001b[49m\u001b[43mfilelike\u001b[49m\u001b[38;5;241;43m=\u001b[39;49m\u001b[43mfilelike\u001b[49m\u001b[43m,\u001b[49m\n\u001b[1;32m   1005\u001b[0m \u001b[43m        \u001b[49m\u001b[43mbyte_converters\u001b[49m\u001b[38;5;241;43m=\u001b[39;49m\u001b[43mbyte_converters\u001b[49m\u001b[43m)\u001b[49m\n\u001b[1;32m   1007\u001b[0m \u001b[38;5;28;01melse\u001b[39;00m:\n\u001b[1;32m   1008\u001b[0m     \u001b[38;5;66;03m# This branch reads the file into chunks of object arrays and then\u001b[39;00m\n\u001b[1;32m   1009\u001b[0m     \u001b[38;5;66;03m# casts them to the desired actual dtype.  This ensures correct\u001b[39;00m\n\u001b[1;32m   1010\u001b[0m     \u001b[38;5;66;03m# string-length and datetime-unit discovery (like `arr.astype()`).\u001b[39;00m\n\u001b[1;32m   1011\u001b[0m     \u001b[38;5;66;03m# Due to chunking, certain error reports are less clear, currently.\u001b[39;00m\n\u001b[1;32m   1012\u001b[0m     \u001b[38;5;28;01mif\u001b[39;00m filelike:\n",
      "File \u001b[0;32m~/miniconda3/envs/lidar4d/lib/python3.9/codecs.py:322\u001b[0m, in \u001b[0;36mBufferedIncrementalDecoder.decode\u001b[0;34m(self, input, final)\u001b[0m\n\u001b[1;32m    319\u001b[0m \u001b[38;5;28;01mdef\u001b[39;00m \u001b[38;5;21mdecode\u001b[39m(\u001b[38;5;28mself\u001b[39m, \u001b[38;5;28minput\u001b[39m, final\u001b[38;5;241m=\u001b[39m\u001b[38;5;28;01mFalse\u001b[39;00m):\n\u001b[1;32m    320\u001b[0m     \u001b[38;5;66;03m# decode input (taking the buffer into account)\u001b[39;00m\n\u001b[1;32m    321\u001b[0m     data \u001b[38;5;241m=\u001b[39m \u001b[38;5;28mself\u001b[39m\u001b[38;5;241m.\u001b[39mbuffer \u001b[38;5;241m+\u001b[39m \u001b[38;5;28minput\u001b[39m\n\u001b[0;32m--> 322\u001b[0m     (result, consumed) \u001b[38;5;241m=\u001b[39m \u001b[38;5;28;43mself\u001b[39;49m\u001b[38;5;241;43m.\u001b[39;49m\u001b[43m_buffer_decode\u001b[49m\u001b[43m(\u001b[49m\u001b[43mdata\u001b[49m\u001b[43m,\u001b[49m\u001b[43m \u001b[49m\u001b[38;5;28;43mself\u001b[39;49m\u001b[38;5;241;43m.\u001b[39;49m\u001b[43merrors\u001b[49m\u001b[43m,\u001b[49m\u001b[43m \u001b[49m\u001b[43mfinal\u001b[49m\u001b[43m)\u001b[49m\n\u001b[1;32m    323\u001b[0m     \u001b[38;5;66;03m# keep undecoded input until the next call\u001b[39;00m\n\u001b[1;32m    324\u001b[0m     \u001b[38;5;28mself\u001b[39m\u001b[38;5;241m.\u001b[39mbuffer \u001b[38;5;241m=\u001b[39m data[consumed:]\n",
      "\u001b[0;31mUnicodeDecodeError\u001b[0m: 'utf-8' codec can't decode byte 0x93 in position 0: invalid start byte"
     ]
    }
   ],
   "source": [
    "import os\n",
    "import numpy as np\n",
    "import open3d as o3d\n",
    "import imageio\n",
    "import matplotlib.pyplot as plt\n",
    "\n",
    "# Folder containing .txt files\n",
    "folder_path = \"/root/docker_data/MSthesis/log/kitti360_lidar4d_f4950_release/simulation/points\"\n",
    "output_gif = \"point_cloud_animation.gif\"\n",
    "\n",
    "# Get sorted list of .txt files\n",
    "file_list = sorted([f for f in os.listdir(folder_path) if f.endswith(\".npy\")])\n",
    "\n",
    "# Define Open3D Visualizer\n",
    "vis = o3d.visualization.Visualizer()\n",
    "vis.create_window(visible=True)  # Open a visible window temporarily\n",
    "\n",
    "# Create a point cloud object\n",
    "pcd = o3d.geometry.PointCloud()\n",
    "\n",
    "# Store frames\n",
    "frames = []\n",
    "\n",
    "# Iterate through each file\n",
    "for idx, file in enumerate(file_list):\n",
    "    file_path = os.path.join(folder_path, file)\n",
    "    \n",
    "    # Load the LiDAR data\n",
    "    data = np.loadtxt(file_path)  # Assuming space-separated values\n",
    "    \n",
    "    # Extract x, y, z, and labels\n",
    "    x, y, z, labels = data[:, 0], data[:, 1], data[:, 2], data[:, 4]  # Ignoring intensity\n",
    "\n",
    "    # Assign points to Open3D PointCloud\n",
    "    points = np.vstack((x, y, z)).T\n",
    "    pcd.points = o3d.utility.Vector3dVector(points)\n",
    "\n",
    "    # Assign colors based on labels (normalized for Open3D)\n",
    "    label_colors = plt.get_cmap(\"jet\")(labels / labels.max())[:, :3]  # Convert labels to RGB\n",
    "    pcd.colors = o3d.utility.Vector3dVector(label_colors)\n",
    "\n",
    "    # Add geometry and render\n",
    "    vis.clear_geometries()\n",
    "    vis.add_geometry(pcd)\n",
    "    vis.poll_events()\n",
    "    vis.update_renderer()\n",
    "\n",
    "    # Get the view control AFTER rendering\n",
    "    ctr = vis.get_view_control()\n",
    "    ctr.set_lookat([np.mean(x), np.mean(y), np.mean(z)])  # Center the view\n",
    "    ctr.set_front([0, -1, 0])  # Looking from the top\n",
    "    ctr.set_up([0, 0, 1])  # Z-axis is up\n",
    "    ctr.set_zoom(0.5)  # Adjust zoom level\n",
    "\n",
    "    # Capture image\n",
    "    image_path = f\"frame_{idx:03d}.png\"\n",
    "    vis.capture_screen_image(image_path, do_render=True)\n",
    "    frames.append(imageio.imread(image_path))\n",
    "\n",
    "# Destroy Open3D visualizer\n",
    "vis.destroy_window()\n",
    "\n",
    "# Create GIF\n",
    "imageio.mimsave(output_gif, frames, duration=0.1)  # Adjust duration for speed\n",
    "\n",
    "print(f\"GIF saved as {output_gif}\")\n"
   ]
  },
  {
   "cell_type": "code",
   "execution_count": 6,
   "metadata": {},
   "outputs": [
    {
     "ename": "",
     "evalue": "",
     "output_type": "error",
     "traceback": [
      "\u001b[1;31mThe Kernel crashed while executing code in the current cell or a previous cell. \n",
      "\u001b[1;31mPlease review the code in the cell(s) to identify a possible cause of the failure. \n",
      "\u001b[1;31mClick <a href='https://aka.ms/vscodeJupyterKernelCrash'>here</a> for more info. \n",
      "\u001b[1;31mView Jupyter <a href='command:jupyter.viewOutput'>log</a> for further details."
     ]
    }
   ],
   "source": [
    "import os\n",
    "# Enable CPU rendering mode if necessary\n",
    "os.environ[\"OPEN3D_CPU_RENDERING\"] = \"1\"\n",
    "\n",
    "import numpy as np\n",
    "import open3d as o3d\n",
    "import open3d.visualization.rendering as rendering\n",
    "\n",
    "# Load point cloud from a text file (assumes one x y z per line)\n",
    "points = np.loadtxt(\"/root/docker_data/MSthesis/log/kitti360_lidar4d_f4950_release/simulation/points/lidar4d_0046.txt\")[:,:3]\n",
    "pcd = o3d.geometry.PointCloud()\n",
    "pcd.points = o3d.utility.Vector3dVector(points)\n",
    "\n",
    "# Set up offscreen renderer with desired resolution\n",
    "width, height = 800, 600\n",
    "renderer = rendering.OffscreenRenderer(width, height)\n",
    "\n",
    "# Create a simple material for the point cloud\n",
    "material = rendering.MaterialRecord()\n",
    "material.shader = \"defaultUnlit\"  # or choose another shader as needed\n",
    "\n",
    "# Add the point cloud geometry to the scene\n",
    "renderer.scene.add_geometry(\"point_cloud\", pcd, material)\n",
    "\n",
    "# Set up the camera view:\n",
    "# Compute the bounding box center and extent for a reasonable camera position.\n",
    "bbox = pcd.get_axis_aligned_bounding_box()\n",
    "center = bbox.get_center()\n",
    "extent = bbox.get_extent()\n",
    "# Position the camera at a distance based on the point cloud size.\n",
    "eye = [center[0] + extent[0]*2, center[1] + extent[1]*2, center[2] + extent[2]*2]\n",
    "up = [0, 1, 0]\n",
    "renderer.scene.camera.look_at(center, eye, up)\n",
    "\n",
    "# Render the scene to an image\n",
    "image = renderer.render_to_image()\n",
    "\n",
    "# Save the rendered image to a PNG file\n",
    "o3d.io.write_image(\"output.png\", image)\n"
   ]
  },
  {
   "cell_type": "code",
   "execution_count": 5,
   "metadata": {},
   "outputs": [
    {
     "data": {
      "text/plain": [
       "(3, 5)"
      ]
     },
     "execution_count": 5,
     "metadata": {},
     "output_type": "execute_result"
    }
   ],
   "source": [
    "points.shape"
   ]
  },
  {
   "cell_type": "code",
   "execution_count": 26,
   "metadata": {},
   "outputs": [
    {
     "name": "stdout",
     "output_type": "stream",
     "text": [
      "lidar4d_0000.npy\n",
      "lidar4d_0001.npy\n",
      "lidar4d_0002.npy\n",
      "lidar4d_0003.npy\n",
      "lidar4d_0004.npy\n",
      "lidar4d_0005.npy\n",
      "lidar4d_0006.npy\n",
      "lidar4d_0007.npy\n",
      "lidar4d_0008.npy\n",
      "lidar4d_0009.npy\n",
      "lidar4d_0010.npy\n",
      "lidar4d_0011.npy\n",
      "lidar4d_0012.npy\n",
      "lidar4d_0013.npy\n",
      "lidar4d_0014.npy\n",
      "lidar4d_0015.npy\n",
      "lidar4d_0016.npy\n",
      "lidar4d_0017.npy\n",
      "lidar4d_0018.npy\n",
      "lidar4d_0019.npy\n",
      "lidar4d_0020.npy\n",
      "lidar4d_0021.npy\n",
      "lidar4d_0022.npy\n",
      "lidar4d_0023.npy\n",
      "lidar4d_0024.npy\n",
      "lidar4d_0025.npy\n",
      "lidar4d_0026.npy\n",
      "lidar4d_0027.npy\n",
      "lidar4d_0028.npy\n",
      "lidar4d_0029.npy\n",
      "lidar4d_0030.npy\n",
      "lidar4d_0031.npy\n",
      "lidar4d_0032.npy\n",
      "lidar4d_0033.npy\n",
      "lidar4d_0034.npy\n",
      "lidar4d_0035.npy\n",
      "lidar4d_0036.npy\n",
      "lidar4d_0037.npy\n",
      "lidar4d_0038.npy\n",
      "lidar4d_0039.npy\n",
      "lidar4d_0040.npy\n",
      "lidar4d_0041.npy\n",
      "lidar4d_0042.npy\n",
      "lidar4d_0043.npy\n",
      "lidar4d_0044.npy\n",
      "lidar4d_0045.npy\n",
      "lidar4d_0046.npy\n",
      "lidar4d_0047.npy\n",
      "lidar4d_0048.npy\n",
      "lidar4d_0049.npy\n",
      "lidar4d_0050.npy\n"
     ]
    }
   ],
   "source": [
    "import os \n",
    "import numpy as np\n",
    "import cv2\n",
    "import matplotlib.pyplot as plt\n",
    "def lidar_to_pano_with_intensities_and_labels(\n",
    "    local_points_with_intensities_labels: np.ndarray,\n",
    "    lidar_H: int,\n",
    "    lidar_W: int,\n",
    "    lidar_K: int,\n",
    "    max_depth=80,\n",
    "):\n",
    "    \"\"\"\n",
    "    Convert lidar frame to pano frame with intensities and semantic labels.\n",
    "    Lidar points are in local coordinates.\n",
    "\n",
    "    Args:\n",
    "        local_points_with_intensities_labels: (N, 5), float32, in lidar frame, with intensities and semantic labels.\n",
    "        lidar_H: pano height.\n",
    "        lidar_W: pano width.\n",
    "        lidar_K: lidar intrinsics.\n",
    "        max_depth: max depth in meters.\n",
    "\n",
    "    Return:\n",
    "        pano: (H, W), float32, depth values.\n",
    "        intensities: (H, W), float32, intensity values.\n",
    "        semantic_labels: (H, W), float32, semantic labels.\n",
    "    \"\"\"\n",
    "    # Unpack points, intensities, and labels.\n",
    "    local_points = local_points_with_intensities_labels[:, :3]\n",
    "    local_point_intensities = local_points_with_intensities_labels[:, 3]\n",
    "    local_point_labels = local_points_with_intensities_labels[:, 4]\n",
    "    fov_up, fov = lidar_K\n",
    "    fov_down = fov - fov_up\n",
    "\n",
    "    # Compute distances to lidar center.\n",
    "    dists = np.linalg.norm(local_points, axis=1)\n",
    "\n",
    "    # Initialize output arrays.\n",
    "    pano = np.zeros((lidar_H, lidar_W), dtype=np.float32)\n",
    "    intensities = np.zeros((lidar_H, lidar_W), dtype=np.float32)\n",
    "    semantic_labels = np.zeros((lidar_H, lidar_W), dtype=np.float32)\n",
    "\n",
    "    for local_point, dist, intensity, label in zip(\n",
    "        local_points, dists, local_point_intensities, local_point_labels\n",
    "    ):\n",
    "        # Check max depth.\n",
    "        if dist >= max_depth:\n",
    "            continue\n",
    "\n",
    "        x, y, z = local_point\n",
    "        beta = np.pi - np.arctan2(y, x)\n",
    "        alpha = np.arctan2(z, np.sqrt(x**2 + y**2)) + fov_down / 180 * np.pi\n",
    "        c = int(round(beta / (2 * np.pi / lidar_W)))\n",
    "        r = int(round(lidar_H - alpha / (fov / 180 * np.pi / lidar_H)))\n",
    "\n",
    "        # Check out-of-bounds.\n",
    "        if r >= lidar_H or r < 0 or c >= lidar_W or c < 0:\n",
    "            continue\n",
    "\n",
    "        # Set to min dist if not set, or if this distance is closer.\n",
    "        if pano[r, c] == 0.0 or pano[r, c] > dist:\n",
    "            pano[r, c] = dist\n",
    "            intensities[r, c] = intensity\n",
    "            semantic_labels[r, c] = label\n",
    "\n",
    "    return pano, intensities, semantic_labels\n",
    "\n",
    "\n",
    "gt_folder = \"/root/docker_data/MSthesis/data/kitti360/train\"\n",
    "sim_folder = \"/root/docker_data/MSthesis/log/kitti360_lidar4d_f4950_release/simulation/points\"\n",
    "\n",
    "# Example: sort numerically if filenames are like 'scan_12.npy'\n",
    "gt_files = sorted(\n",
    "    [f for f in os.listdir(gt_folder) if f.endswith(\".npy\")]\n",
    "    )\n",
    "    \n",
    "sim_files = sorted(\n",
    "    [f for f in os.listdir(sim_folder) if f.endswith(\".npy\")],\n",
    "    key=lambda x: int(x.split('_')[1].split('.')[0])\n",
    ")\n",
    "\n",
    "\n",
    "simulated_scans = []\n",
    "for file in sim_files:\n",
    "    print(file)\n",
    "    sim_scan = np.load(sim_folder + \"/\"+file)\n",
    "    x,y,sim_label_map = lidar_to_pano_with_intensities_and_labels(sim_scan, 66,1030, (2,26.9))\n",
    "    simulated_scans.append(sim_label_map)\n",
    "\n",
    "\n",
    "label_mapping = {\n",
    "    0: 0,\n",
    "    8: 1,\n",
    "    7: 2,\n",
    "    11: 3,\n",
    "    26: 4,\n",
    "    21: 5,\n",
    "    100: 6\n",
    "}\n",
    "ground_truth_scans = []\n",
    "for file in gt_files:\n",
    "    gt_label_map = np.load(gt_folder + \"/\" + file)[:, :, 3]\n",
    "\n",
    "    # Apply label remapping\n",
    "    remapped_map = np.copy(gt_label_map)\n",
    "    for old_label, new_label in label_mapping.items():\n",
    "        remapped_map[gt_label_map == old_label] = new_label\n",
    "\n",
    "    ground_truth_scans.append(remapped_map)\n"
   ]
  },
  {
   "cell_type": "code",
   "execution_count": 27,
   "metadata": {},
   "outputs": [
    {
     "name": "stdout",
     "output_type": "stream",
     "text": [
      "Class-wise IoU: [0.91618806 0.9398015  0.9498321  0.91790694 0.7980215  0.87842345\n",
      " 0.8410119 ]\n",
      "mIoU: 0.89159787\n"
     ]
    }
   ],
   "source": [
    "import numpy as np\n",
    "\n",
    "num_classes = len(label_mapping)  # 7 in your case\n",
    "ious_per_class = np.zeros((len(simulated_scans), num_classes), dtype=np.float32)\n",
    "\n",
    "for i, (pred, gt) in enumerate(zip(simulated_scans, ground_truth_scans)):\n",
    "    for cls in range(num_classes):\n",
    "        intersection = np.logical_and(pred == cls, gt == cls).sum()\n",
    "        union = np.logical_or(pred == cls, gt == cls).sum()\n",
    "        \n",
    "        if union == 0:\n",
    "            iou = np.nan  # no pixels of this class in either pred or gt\n",
    "        else:\n",
    "            iou = intersection / union\n",
    "        \n",
    "        ious_per_class[i, cls] = iou\n",
    "\n",
    "# Mean IoU per class across all pairs (ignoring NaNs)\n",
    "mean_iou_per_class = np.nanmean(ious_per_class, axis=0)\n",
    "\n",
    "# mIoU = average of per-class IoUs\n",
    "miou = np.nanmean(mean_iou_per_class)\n",
    "\n",
    "print(\"Class-wise IoU:\", mean_iou_per_class)\n",
    "print(\"mIoU:\", miou)\n"
   ]
  },
  {
   "cell_type": "code",
   "execution_count": 31,
   "metadata": {},
   "outputs": [
    {
     "name": "stdout",
     "output_type": "stream",
     "text": [
      "Class-wise IoU: [0.91618806 0.9398015  0.9498321  0.91790694 0.7980215  0.87842345\n",
      " 0.8410119 ]\n",
      "mIoU: 0.89159787\n"
     ]
    }
   ],
   "source": [
    "import numpy as np\n",
    "\n",
    "def iou_per_class(pred, gt, num_classes):\n",
    "    \"\"\"\n",
    "    Calculate IoU for each class between two label maps.\n",
    "\n",
    "    Args:\n",
    "        pred (np.ndarray): predicted labels (H, W)\n",
    "        gt (np.ndarray): ground truth labels (H, W)\n",
    "        num_classes (int): total number of classes\n",
    "\n",
    "    Returns:\n",
    "        np.ndarray: IoU for each class (size = num_classes)\n",
    "    \"\"\"\n",
    "    ious = np.zeros(num_classes, dtype=np.float32)\n",
    "\n",
    "    for cls in range(num_classes):\n",
    "        intersection = np.logical_and(pred == cls, gt == cls).sum()\n",
    "        union = np.logical_or(pred == cls, gt == cls).sum()\n",
    "\n",
    "        if union == 0:\n",
    "            ious[cls] = np.nan  # class not present in either\n",
    "        else:\n",
    "            ious[cls] = intersection / union\n",
    "\n",
    "    return ious\n",
    "\n",
    "# Store IoUs for each frame\n",
    "all_ious = []\n",
    "\n",
    "for pred_map, gt_map in zip(simulated_scans, ground_truth_scans):\n",
    "    ious = iou_per_class(pred_map, gt_map, num_classes=7)\n",
    "    all_ious.append(ious)\n",
    "\n",
    "# Convert to NumPy array: shape = (num_frames, num_classes)\n",
    "all_ious = np.array(all_ious)\n",
    "\n",
    "# Mean IoU per class across all frames\n",
    "mean_iou_per_class = np.nanmean(all_ious, axis=0)\n",
    "\n",
    "# mIoU (mean over classes)\n",
    "miou = np.nanmean(mean_iou_per_class)\n",
    "\n",
    "print(\"Class-wise IoU:\", mean_iou_per_class)\n",
    "print(\"mIoU:\", miou)\n",
    "\n"
   ]
  },
  {
   "cell_type": "code",
   "execution_count": null,
   "metadata": {},
   "outputs": [],
   "source": []
  }
 ],
 "metadata": {
  "kernelspec": {
   "display_name": "lidar4d",
   "language": "python",
   "name": "python3"
  },
  "language_info": {
   "codemirror_mode": {
    "name": "ipython",
    "version": 3
   },
   "file_extension": ".py",
   "mimetype": "text/x-python",
   "name": "python",
   "nbconvert_exporter": "python",
   "pygments_lexer": "ipython3",
   "version": "3.9.19"
  }
 },
 "nbformat": 4,
 "nbformat_minor": 2
}
